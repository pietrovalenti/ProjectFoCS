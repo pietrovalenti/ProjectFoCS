{
 "cells": [
  {
   "cell_type": "markdown",
   "metadata": {},
   "source": [
    "# Foundations of Computer Science project\n",
    "## Paolo Lindia (860507), Fabio Pasquale Lombardi (860550), Pietro Carmine Valenti (807548)"
   ]
  },
  {
   "cell_type": "markdown",
   "metadata": {},
   "source": [
    "Il progetto utilizza i dati provenienti dal database Kiva (https://www.kaggle.com/gaborfodor/additional-kiva-snapshot) nel quale vengono fornite informazioni su circa 1.4 milioni di prestiti e su circa 2.3 milioni di prestatori da tutto il mondo; i dati sono raccolti in 7 tabelle csv (loans.csv ,lenders.csv, loans_lenders.csv, country_stats.csv, GEconV4.csv, locations.csv, loan_coords.csv). Il progetto, interamente sviluppato su jupyter notebook e utilizzando solo i dati forniti, si divide in celle di codice commentate e markdown, nel quale vengono descritti i passaggi e i processi decisionali. Le celle di codice con solo commenti mostrano dei passaggi che hanno permesso di attuare riflessioni riguardo le question, ma che non sono strettamente necessarie per la soluzione."
   ]
  },
  {
   "cell_type": "code",
   "execution_count": 1,
   "metadata": {},
   "outputs": [],
   "source": [
    "import autotime\n",
    "import datetime\n",
    "%load_ext autotime\n",
    "start= datetime.datetime.now()\n",
    "# La funzione autotime permette di visualizzare in output il tempo di esecuzione di ogni cell "
   ]
  },
  {
   "cell_type": "code",
   "execution_count": 2,
   "metadata": {},
   "outputs": [
    {
     "name": "stdout",
     "output_type": "stream",
     "text": [
      "time: 23.7 s\n"
     ]
    }
   ],
   "source": [
    "import seaborn as sea\n",
    "import matplotlib.pyplot as plt"
   ]
  },
  {
   "cell_type": "markdown",
   "metadata": {},
   "source": [
    "## Question 1:"
   ]
  },
  {
   "cell_type": "markdown",
   "metadata": {},
   "source": [
    "### - Normalize the loan_lenders table. In the normalized table, each row must have one loan_id and one lender."
   ]
  },
  {
   "cell_type": "markdown",
   "metadata": {},
   "source": [
    "Per prima cosa è necessario importare la libreria pandas, la quale consente di importare e gestire i file csv in dataframe; così facendo è possibile importare il file csv loans_lenders in un dataframe"
   ]
  },
  {
   "cell_type": "code",
   "execution_count": 3,
   "metadata": {},
   "outputs": [
    {
     "name": "stdout",
     "output_type": "stream",
     "text": [
      "time: 12.1 s\n"
     ]
    }
   ],
   "source": [
    "import pandas as pd\n",
    "loans_lenders=pd.read_csv('loans_lenders.csv')"
   ]
  },
  {
   "cell_type": "markdown",
   "metadata": {},
   "source": [
    "Per ristrutturare il csv in maniera da ottenere su ciascuna riga un solo codice del prestito (loan_id) e un solo prestatore (lender) utilizziamo un ciclo che separa la colonna non strutturata dei lender con il separatore ', ', in modo da ottenere una lista di lenders per ciascuno loan_id. A questo punto, con il ciclo interno, vengono aggiunti, per ogni valore nella lista lender, il loan_id e il lender in due liste. "
   ]
  },
  {
   "cell_type": "code",
   "execution_count": 4,
   "metadata": {},
   "outputs": [
    {
     "name": "stdout",
     "output_type": "stream",
     "text": [
      "time: 1min 3s\n"
     ]
    }
   ],
   "source": [
    "li=[]\n",
    "le=[]\n",
    "j=0\n",
    "for el in loans_lenders['loan_id']:\n",
    "    x=loans_lenders['lenders'][j].split(', ')\n",
    "    for l in x:\n",
    "        li.append(int(el))\n",
    "        le.append(l)\n",
    "    j+=1"
   ]
  },
  {
   "cell_type": "markdown",
   "metadata": {},
   "source": [
    "A questo punto si crea un nuovo dataframe (dfLend) aggungendo le due liste alle colonne loan_id e lenders, ottenendo così un dataframe con 28293912 righe, ciascune delle quali composta da un lender e dal loan_id corrispondente al prestito cui ha partecipato."
   ]
  },
  {
   "cell_type": "code",
   "execution_count": 5,
   "metadata": {},
   "outputs": [
    {
     "name": "stdout",
     "output_type": "stream",
     "text": [
      "time: 22.6 s\n"
     ]
    }
   ],
   "source": [
    "dfLend=pd.DataFrame(columns=['loan_id','lenders'])\n",
    "dfLend['loan_id']=li\n",
    "dfLend['lenders']=le"
   ]
  },
  {
   "cell_type": "markdown",
   "metadata": {},
   "source": [
    "La numerosità dei lender nei vari prestiti è estremamente variabile, e va da un minimo di 1 (nel prestito con loan_id 95), fino ad un massimo di 2888 (nel prestito con loan_id 1433600); stessa situazione vale anche per la numerosità dei lenders, la quale va da un minimo di 1 prestito finanziato (per esempio 00mike00), fino ad un massimo di 177645 (gooddogg1)"
   ]
  },
  {
   "cell_type": "code",
   "execution_count": 6,
   "metadata": {},
   "outputs": [
    {
     "name": "stdout",
     "output_type": "stream",
     "text": [
      "time: 4 ms\n"
     ]
    }
   ],
   "source": [
    "# sizeXloan=dfLend.groupby('loan_id').size()\n",
    "# print(sizeXloan.idxmax(),': ',sizeXloan.max(),' | ',sizeXloan.idxmin(),': ',sizeXloan.min())\n",
    "#   1433600 :  2888  |  95 :  1\n",
    "# sizeXlend=dfLend.groupby('lenders').size()\n",
    "# print(sizeXlend.idxmax(),': ',sizeXlend.max(),' | ',sizeXlend.idxmin(),': ',sizeXlend.min())\n",
    "#   gooddogg1 :  177645  |  00mike00 :  1"
   ]
  },
  {
   "cell_type": "markdown",
   "metadata": {},
   "source": [
    "## Question 2:"
   ]
  },
  {
   "cell_type": "markdown",
   "metadata": {},
   "source": [
    "### - For each loan, add a column duration corresponding to the number of days between the disburse time and the planned expiration time. If any of those two dates is missing, also the duration must be missing."
   ]
  },
  {
   "cell_type": "markdown",
   "metadata": {},
   "source": [
    "Poichè le informazioni necessarie alla soluzione del punto si trovano in loans.csv, importiamo il file in un dataframe pandas."
   ]
  },
  {
   "cell_type": "code",
   "execution_count": 7,
   "metadata": {},
   "outputs": [
    {
     "name": "stdout",
     "output_type": "stream",
     "text": [
      "time: 1min 16s\n"
     ]
    }
   ],
   "source": [
    "loans=pd.read_csv('loans.csv',low_memory=False,parse_dates=['disburse_time','planned_expiration_time'])"
   ]
  },
  {
   "cell_type": "code",
   "execution_count": null,
   "metadata": {},
   "outputs": [],
   "source": [
    "#loans.columns\n",
    "#Index(['loan_id', 'loan_name', 'original_language', 'description',\n",
    "#       'description_translated', 'funded_amount', 'loan_amount', 'status',\n",
    "#       'activity_name', 'sector_name', 'loan_use', 'country_code',\n",
    "#       'country_name', 'town_name', 'currency_policy',\n",
    "#       'currency_exchange_coverage_rate', 'currency', 'partner_id',\n",
    "#       'posted_time', 'planned_expiration_time', 'disburse_time',\n",
    "#       'raised_time', 'lender_term', 'num_lenders_total',\n",
    "#       'num_journal_entries', 'num_bulk_entries', 'tags', 'borrower_genders',\n",
    "#       'borrower_pictured', 'repayment_interval', 'distribution_model'],\n",
    "#      dtype='object')"
   ]
  },
  {
   "cell_type": "code",
   "execution_count": 9,
   "metadata": {},
   "outputs": [
    {
     "name": "stdout",
     "output_type": "stream",
     "text": [
      "time: 52.8 ms\n"
     ]
    }
   ],
   "source": [
    "#type(loans['disburse_time'][0]) = pandas._libs.tslibs.timestamps.Timestamp"
   ]
  },
  {
   "cell_type": "markdown",
   "metadata": {},
   "source": [
    "Essendo il dataframe molto grande, ne creiamo uno nuovo mantenendo il loan_id, disburse_time e planned_expiration_time; a questo punto aggiungiamo una colonna Duration, data dalla differenza tra planned_expiration_time e disburse time. Essendovi dei missing values per entrambe le date, la Duration di tali loan sarà anch'essa NaT"
   ]
  },
  {
   "cell_type": "code",
   "execution_count": 10,
   "metadata": {},
   "outputs": [
    {
     "name": "stdout",
     "output_type": "stream",
     "text": [
      "time: 484 ms\n"
     ]
    }
   ],
   "source": [
    "lo=pd.DataFrame(columns=['loan_id','Disburse Time','Planned Exp'])\n",
    "lo['loan_id']=loans['loan_id']\n",
    "lo['Disburse Time']=loans['disburse_time']\n",
    "lo['Planned Exp']=loans['planned_expiration_time']\n",
    "lo['Duration']=lo['Planned Exp']-lo['Disburse Time']"
   ]
  },
  {
   "cell_type": "code",
   "execution_count": 11,
   "metadata": {},
   "outputs": [
    {
     "data": {
      "text/plain": [
       "pandas._libs.tslibs.timedeltas.Timedelta"
      ]
     },
     "execution_count": 11,
     "metadata": {},
     "output_type": "execute_result"
    },
    {
     "name": "stdout",
     "output_type": "stream",
     "text": [
      "time: 11.9 ms\n"
     ]
    }
   ],
   "source": [
    "type(lo['Duration'][0])"
   ]
  },
  {
   "cell_type": "markdown",
   "metadata": {},
   "source": [
    "A questo punto, avendo la duration espressa come una variabile timedelta, utilizziamo i secondi per trovare una valore dei giorni espresso come float (tenendo in tal modo traccia anche delle frazioni di giorno intercorse), creiamo la variabile DurationNum e infine la aggiungiamo al dataframe."
   ]
  },
  {
   "cell_type": "code",
   "execution_count": 12,
   "metadata": {},
   "outputs": [
    {
     "data": {
      "text/plain": [
       "0    53.81\n",
       "1    96.60\n",
       "2    37.55\n",
       "3    34.80\n",
       "4    57.92\n",
       "5    35.77\n",
       "6    31.99\n",
       "7    46.08\n",
       "8    33.67\n",
       "9    68.24\n",
       "Name: DurationNum, dtype: float64"
      ]
     },
     "execution_count": 12,
     "metadata": {},
     "output_type": "execute_result"
    },
    {
     "name": "stdout",
     "output_type": "stream",
     "text": [
      "time: 423 ms\n"
     ]
    }
   ],
   "source": [
    "import datetime as  dt\n",
    "lo['DurationNum']=round(lo['Duration'].dt.total_seconds() / (24 * 60 * 60),2)\n",
    "lo['DurationNum'].head(10)"
   ]
  },
  {
   "cell_type": "markdown",
   "metadata": {},
   "source": [
    "L'istogramma sottostante mostra la distribuzione della duration dei diversi prestiti. Si può notare come la duration di gran parte dei prestiti si concentri tra 0 e 100 giorni, con alcuni prestiti con duration negativa (prestiti che sono stati finanziati dopo la scadenza pianificata) e con duration molto lunga (fino a 1500 giorni). In generale si evince una distribuzione molto asimmetrica"
   ]
  },
  {
   "cell_type": "code",
   "execution_count": 13,
   "metadata": {},
   "outputs": [
    {
     "data": {
      "text/plain": [
       "<matplotlib.axes._subplots.AxesSubplot at 0x2935601f400>"
      ]
     },
     "execution_count": 13,
     "metadata": {},
     "output_type": "execute_result"
    },
    {
     "data": {
      "image/png": "[encoded data removed]",
      "text/plain": [
       "<Figure size 1152x595.44 with 1 Axes>"
      ]
     },
     "metadata": {},
     "output_type": "display_data"
    },
    {
     "name": "stdout",
     "output_type": "stream",
     "text": [
      "time: 1.44 s\n"
     ]
    }
   ],
   "source": [
    "sea.set(rc={'figure.figsize':(16,8.27)})\n",
    "sea.distplot(lo['DurationNum'][lo['DurationNum'].isna()==False],)"
   ]
  },
  {
   "cell_type": "markdown",
   "metadata": {},
   "source": [
    "All'interno della colonna DurationNum vi sono 14395  valori negativi e 374645 missing values"
   ]
  },
  {
   "cell_type": "code",
   "execution_count": null,
   "metadata": {},
   "outputs": [],
   "source": [
    "# len(lo[lo['DurationNum']<0])     \n",
    "# lo['DurationNum'].isnull().sum() "
   ]
  },
  {
   "cell_type": "code",
   "execution_count": 15,
   "metadata": {},
   "outputs": [
    {
     "name": "stdout",
     "output_type": "stream",
     "text": [
      "time: 906 ms\n"
     ]
    }
   ],
   "source": [
    "#1419607-len(loans_lenders)\n",
    "##ci sono 32175 loan che compaiono in loans e non in loans_lenders"
   ]
  },
  {
   "cell_type": "code",
   "execution_count": 16,
   "metadata": {},
   "outputs": [
    {
     "name": "stdout",
     "output_type": "stream",
     "text": [
      "time: 116 ms\n"
     ]
    }
   ],
   "source": [
    "#loans['loan_id'][loans['funded_amount']==0]\n",
    "###2568 loan non sono presenti in loans_lenders, hanno fundend=0 e num_lenders=0"
   ]
  },
  {
   "cell_type": "markdown",
   "metadata": {},
   "source": [
    "## Question 3:"
   ]
  },
  {
   "cell_type": "markdown",
   "metadata": {},
   "source": [
    "### - Find the lenders that have funded at least twice."
   ]
  },
  {
   "cell_type": "markdown",
   "metadata": {},
   "source": [
    "Per calcolare quante volte ha contribuito ogni lender utilizziamo una groupby sul dataframe dfLend (creato al punto 1) sulla colonna lenders."
   ]
  },
  {
   "cell_type": "code",
   "execution_count": 17,
   "metadata": {},
   "outputs": [
    {
     "name": "stdout",
     "output_type": "stream",
     "text": [
      "time: 14.3 s\n"
     ]
    }
   ],
   "source": [
    "numFund=dfLend.groupby('lenders').size()\n",
    "numfund=numFund.reset_index()\n",
    "numfund.columns=['lenders','count']"
   ]
  },
  {
   "cell_type": "markdown",
   "metadata": {},
   "source": [
    "Utilizziamo un cut-off a 2 sulla colonna count in maniera da ottenere una tabella con inclusi solo i lenders che hanno finanziato almeno 2 volte (i quali risultano 901811 su 1383799)"
   ]
  },
  {
   "cell_type": "code",
   "execution_count": 18,
   "metadata": {},
   "outputs": [
    {
     "data": {
      "text/html": [
       "<div>\n",
       "<style scoped>\n",
       "    .dataframe tbody tr th:only-of-type {\n",
       "        vertical-align: middle;\n",
       "    }\n",
       "\n",
       "    .dataframe tbody tr th {\n",
       "        vertical-align: top;\n",
       "    }\n",
       "\n",
       "    .dataframe thead th {\n",
       "        text-align: right;\n",
       "    }\n",
       "</style>\n",
       "<table border=\"1\" class=\"dataframe\">\n",
       "  <thead>\n",
       "    <tr style=\"text-align: right;\">\n",
       "      <th></th>\n",
       "      <th>lenders</th>\n",
       "      <th>count</th>\n",
       "    </tr>\n",
       "  </thead>\n",
       "  <tbody>\n",
       "    <tr>\n",
       "      <th>0</th>\n",
       "      <td>000</td>\n",
       "      <td>40</td>\n",
       "    </tr>\n",
       "    <tr>\n",
       "      <th>1</th>\n",
       "      <td>00000</td>\n",
       "      <td>39</td>\n",
       "    </tr>\n",
       "    <tr>\n",
       "      <th>2</th>\n",
       "      <td>0002</td>\n",
       "      <td>70</td>\n",
       "    </tr>\n",
       "    <tr>\n",
       "      <th>4</th>\n",
       "      <td>0101craign0101</td>\n",
       "      <td>71</td>\n",
       "    </tr>\n",
       "    <tr>\n",
       "      <th>5</th>\n",
       "      <td>0132575</td>\n",
       "      <td>4</td>\n",
       "    </tr>\n",
       "  </tbody>\n",
       "</table>\n",
       "</div>"
      ],
      "text/plain": [
       "          lenders  count\n",
       "0             000     40\n",
       "1           00000     39\n",
       "2            0002     70\n",
       "4  0101craign0101     71\n",
       "5         0132575      4"
      ]
     },
     "execution_count": 18,
     "metadata": {},
     "output_type": "execute_result"
    },
    {
     "name": "stdout",
     "output_type": "stream",
     "text": [
      "time: 536 ms\n"
     ]
    }
   ],
   "source": [
    "more2Fund=numfund[numfund['count']>1]\n",
    "more2Fund.head()"
   ]
  },
  {
   "cell_type": "code",
   "execution_count": 19,
   "metadata": {},
   "outputs": [
    {
     "name": "stdout",
     "output_type": "stream",
     "text": [
      "time: 64 ms\n"
     ]
    }
   ],
   "source": [
    "#len(numFund)   --> 1383799\n",
    "#len(more2Fund) --> 901811"
   ]
  },
  {
   "cell_type": "markdown",
   "metadata": {},
   "source": [
    "## Question 4:"
   ]
  },
  {
   "cell_type": "markdown",
   "metadata": {},
   "source": [
    "### - For each country, compute how many loans have involved that country as borrowers"
   ]
  },
  {
   "cell_type": "markdown",
   "metadata": {},
   "source": [
    "Per ottenere il numero di prestiti che hanno coinvolto ciascuna nazione (in quanto prestatori), basta utilizzare una groupby sul dataframe loans, utilizzando la colonna country_code, per ottenere la dimensione. Abbiamo deciso di utilizzare il country_code al posto di country_name poichè ci consente di collegarci più facilmente alla tabella country_stats, che abbiamo utilizzato come tabella di riferimento per ciò che riguarda le informazioni geografiche."
   ]
  },
  {
   "cell_type": "code",
   "execution_count": 20,
   "metadata": {},
   "outputs": [
    {
     "name": "stdout",
     "output_type": "stream",
     "text": [
      "time: 253 ms\n"
     ]
    }
   ],
   "source": [
    "BorXCountry=loans.groupby('country_code').size()"
   ]
  },
  {
   "cell_type": "markdown",
   "metadata": {},
   "source": [
    "Mettiamo le informazioni ottenute in un dataframe"
   ]
  },
  {
   "cell_type": "code",
   "execution_count": 21,
   "metadata": {},
   "outputs": [
    {
     "data": {
      "text/html": [
       "<div>\n",
       "<style scoped>\n",
       "    .dataframe tbody tr th:only-of-type {\n",
       "        vertical-align: middle;\n",
       "    }\n",
       "\n",
       "    .dataframe tbody tr th {\n",
       "        vertical-align: top;\n",
       "    }\n",
       "\n",
       "    .dataframe thead th {\n",
       "        text-align: right;\n",
       "    }\n",
       "</style>\n",
       "<table border=\"1\" class=\"dataframe\">\n",
       "  <thead>\n",
       "    <tr style=\"text-align: right;\">\n",
       "      <th></th>\n",
       "      <th>country_code</th>\n",
       "      <th>num_borrowers</th>\n",
       "    </tr>\n",
       "  </thead>\n",
       "  <tbody>\n",
       "    <tr>\n",
       "      <th>0</th>\n",
       "      <td>AF</td>\n",
       "      <td>2337</td>\n",
       "    </tr>\n",
       "    <tr>\n",
       "      <th>1</th>\n",
       "      <td>AL</td>\n",
       "      <td>3075</td>\n",
       "    </tr>\n",
       "    <tr>\n",
       "      <th>2</th>\n",
       "      <td>AM</td>\n",
       "      <td>13952</td>\n",
       "    </tr>\n",
       "    <tr>\n",
       "      <th>3</th>\n",
       "      <td>AZ</td>\n",
       "      <td>10172</td>\n",
       "    </tr>\n",
       "    <tr>\n",
       "      <th>4</th>\n",
       "      <td>BA</td>\n",
       "      <td>608</td>\n",
       "    </tr>\n",
       "    <tr>\n",
       "      <th>5</th>\n",
       "      <td>BF</td>\n",
       "      <td>3489</td>\n",
       "    </tr>\n",
       "    <tr>\n",
       "      <th>6</th>\n",
       "      <td>BG</td>\n",
       "      <td>296</td>\n",
       "    </tr>\n",
       "    <tr>\n",
       "      <th>7</th>\n",
       "      <td>BI</td>\n",
       "      <td>1727</td>\n",
       "    </tr>\n",
       "    <tr>\n",
       "      <th>8</th>\n",
       "      <td>BJ</td>\n",
       "      <td>5946</td>\n",
       "    </tr>\n",
       "    <tr>\n",
       "      <th>9</th>\n",
       "      <td>BO</td>\n",
       "      <td>25250</td>\n",
       "    </tr>\n",
       "  </tbody>\n",
       "</table>\n",
       "</div>"
      ],
      "text/plain": [
       "  country_code  num_borrowers\n",
       "0           AF           2337\n",
       "1           AL           3075\n",
       "2           AM          13952\n",
       "3           AZ          10172\n",
       "4           BA            608\n",
       "5           BF           3489\n",
       "6           BG            296\n",
       "7           BI           1727\n",
       "8           BJ           5946\n",
       "9           BO          25250"
      ]
     },
     "execution_count": 21,
     "metadata": {},
     "output_type": "execute_result"
    },
    {
     "name": "stdout",
     "output_type": "stream",
     "text": [
      "time: 80 ms\n"
     ]
    }
   ],
   "source": [
    "BorXCountry=pd.DataFrame(BorXCountry.reset_index().rename(columns={0:'num_borrowers'}))\n",
    "BorXCountry.head(10)"
   ]
  },
  {
   "cell_type": "code",
   "execution_count": 22,
   "metadata": {},
   "outputs": [
    {
     "data": {
      "text/plain": [
       "Text(0.5, 1.0, 'Barplot con numero di borrowers per nazione')"
      ]
     },
     "execution_count": 22,
     "metadata": {},
     "output_type": "execute_result"
    },
    {
     "data": {
      "image/png": "[encoded data removed]",
      "text/plain": [
       "<Figure size 1584x720 with 1 Axes>"
      ]
     },
     "metadata": {},
     "output_type": "display_data"
    },
    {
     "name": "stdout",
     "output_type": "stream",
     "text": [
      "time: 2.4 s\n"
     ]
    }
   ],
   "source": [
    "sea.catplot(\"country_code\",\"num_borrowers\", data=BorXCountry.sort_values('num_borrowers',ascending=0),kind=\"bar\",height=10, aspect=2.2,color='red')\n",
    "plt.title('Barplot con numero di borrowers per nazione')"
   ]
  },
  {
   "cell_type": "markdown",
   "metadata": {},
   "source": [
    "## Question 5 :"
   ]
  },
  {
   "cell_type": "markdown",
   "metadata": {},
   "source": [
    "### - For each country, compute the overall amount of money borrowed"
   ]
  },
  {
   "cell_type": "markdown",
   "metadata": {},
   "source": [
    "Importiamo il file country_stats.csv in un dataframe, al fine di utilizzarlo per 'pulire' i dati dai country_code che non appartengono a tale tabella"
   ]
  },
  {
   "cell_type": "code",
   "execution_count": 23,
   "metadata": {},
   "outputs": [
    {
     "name": "stdout",
     "output_type": "stream",
     "text": [
      "time: 40 ms\n"
     ]
    }
   ],
   "source": [
    "country_stats=pd.read_csv('country_stats.csv')"
   ]
  },
  {
   "cell_type": "markdown",
   "metadata": {},
   "source": [
    "L'unico country_code mancante in country_stats è quello della Namibia; poichè nella tabella loan vi sono prestiti riferiti a borrower della Namibia, imputiamo i l country_code mancante con la stirnga 'NA' (non utilizzata per altri country_code) "
   ]
  },
  {
   "cell_type": "code",
   "execution_count": 24,
   "metadata": {},
   "outputs": [
    {
     "name": "stdout",
     "output_type": "stream",
     "text": [
      "time: 113 ms\n"
     ]
    }
   ],
   "source": [
    "# country_stats[country_stats['country_code'].isnull()]\n",
    "# loans[loans['country_name']=='Namibia']"
   ]
  },
  {
   "cell_type": "code",
   "execution_count": 25,
   "metadata": {},
   "outputs": [
    {
     "name": "stdout",
     "output_type": "stream",
     "text": [
      "time: 415 ms\n"
     ]
    }
   ],
   "source": [
    "country_stats['country_code']=country_stats['country_code'].mask(country_stats['country_name'].isin(['Namibia']),\n",
    "                                                                 country_stats['country_code'].fillna('NA'))\n",
    "\n",
    "loans['country_code']=loans['country_code'].mask(loans['country_name'].isin(['Namibia']),\n",
    "                                                                 loans['country_code'].fillna('NA'))"
   ]
  },
  {
   "cell_type": "markdown",
   "metadata": {},
   "source": [
    "Risolto il problema del country_code della namibia si può passare all'esercizio. Abbiamo deciso di utilizzare la variabile funde_amount al posto di loan_amount poichè le abbiamo interpretate rispettivamente come ammontare finanziato e ammontare richiesto (il fatto che il secondo sia sempre maggiore del primo avvalora la tesi); seguendo questo ragionamento l'ammontare preso in prestito da ciascuna nazione viene inteso la quantità di denaro che effettivamente hanno ricevuto."
   ]
  },
  {
   "cell_type": "code",
   "execution_count": 26,
   "metadata": {},
   "outputs": [
    {
     "data": {
      "text/html": [
       "<div>\n",
       "<style scoped>\n",
       "    .dataframe tbody tr th:only-of-type {\n",
       "        vertical-align: middle;\n",
       "    }\n",
       "\n",
       "    .dataframe tbody tr th {\n",
       "        vertical-align: top;\n",
       "    }\n",
       "\n",
       "    .dataframe thead th {\n",
       "        text-align: right;\n",
       "    }\n",
       "</style>\n",
       "<table border=\"1\" class=\"dataframe\">\n",
       "  <thead>\n",
       "    <tr style=\"text-align: right;\">\n",
       "      <th></th>\n",
       "      <th>loan_id</th>\n",
       "      <th>country_code</th>\n",
       "      <th>funded_amount</th>\n",
       "    </tr>\n",
       "  </thead>\n",
       "  <tbody>\n",
       "    <tr>\n",
       "      <th>0</th>\n",
       "      <td>657307</td>\n",
       "      <td>PH</td>\n",
       "      <td>125.0</td>\n",
       "    </tr>\n",
       "    <tr>\n",
       "      <th>1</th>\n",
       "      <td>657259</td>\n",
       "      <td>HN</td>\n",
       "      <td>400.0</td>\n",
       "    </tr>\n",
       "    <tr>\n",
       "      <th>2</th>\n",
       "      <td>658010</td>\n",
       "      <td>PK</td>\n",
       "      <td>400.0</td>\n",
       "    </tr>\n",
       "    <tr>\n",
       "      <th>3</th>\n",
       "      <td>659347</td>\n",
       "      <td>KG</td>\n",
       "      <td>625.0</td>\n",
       "    </tr>\n",
       "    <tr>\n",
       "      <th>4</th>\n",
       "      <td>656933</td>\n",
       "      <td>PH</td>\n",
       "      <td>425.0</td>\n",
       "    </tr>\n",
       "  </tbody>\n",
       "</table>\n",
       "</div>"
      ],
      "text/plain": [
       "   loan_id country_code  funded_amount\n",
       "0   657307           PH          125.0\n",
       "1   657259           HN          400.0\n",
       "2   658010           PK          400.0\n",
       "3   659347           KG          625.0\n",
       "4   656933           PH          425.0"
      ]
     },
     "execution_count": 26,
     "metadata": {},
     "output_type": "execute_result"
    },
    {
     "name": "stdout",
     "output_type": "stream",
     "text": [
      "time: 304 ms\n"
     ]
    }
   ],
   "source": [
    "amount=pd.DataFrame(columns=['loan_id','country_code','funded_amount'])\n",
    "amount['loan_id']=loans['loan_id']\n",
    "amount['country_code']=loans['country_code']\n",
    "amount['funded_amount']=loans['funded_amount']\n",
    "amount.head()"
   ]
  },
  {
   "cell_type": "markdown",
   "metadata": {},
   "source": [
    "Avendo utilizzato country_stats come tabella di riferimento per i dati geografici, notiamo che vi sono 5 ountry_code che compaiono in loans e non in country_stats: [GZ, VC, VI, VU, GU]; analizzando tali codici si nota che si riferiscono a zone con geografie politiche particolari, o comunque confuse (GZ=Gaza, in teoria territorio palestinese, VI=Virgin islands, in teoria americane, britanniche e portoricane). Essendo solo 34 osservazioni,con valori NaN su molte variabili, optiamo per eliminarle."
   ]
  },
  {
   "cell_type": "code",
   "execution_count": 27,
   "metadata": {},
   "outputs": [
    {
     "data": {
      "text/plain": [
       "['GZ', 'VC', 'VI', 'VU', 'GU']"
      ]
     },
     "execution_count": 27,
     "metadata": {},
     "output_type": "execute_result"
    },
    {
     "name": "stdout",
     "output_type": "stream",
     "text": [
      "time: 80.4 ms\n"
     ]
    }
   ],
   "source": [
    "nomatchcodes=[x for x in list(amount['country_code'].unique()) if x not in list(country_stats['country_code'])]\n",
    "nomatchcodes"
   ]
  },
  {
   "cell_type": "code",
   "execution_count": 28,
   "metadata": {},
   "outputs": [
    {
     "name": "stdout",
     "output_type": "stream",
     "text": [
      "time: 1.52 s\n"
     ]
    }
   ],
   "source": [
    "for el in range(0,5):\n",
    "    rows=list(amount.loc[amount['country_code']==nomatchcodes[el]].index)\n",
    "    amount=amount.drop(rows)#cancelliamo le righe con i non match codes"
   ]
  },
  {
   "cell_type": "code",
   "execution_count": 29,
   "metadata": {},
   "outputs": [
    {
     "name": "stdout",
     "output_type": "stream",
     "text": [
      "time: 76 ms\n"
     ]
    }
   ],
   "source": [
    "amount=amount.reset_index()\n",
    "del amount['index'] ##resetto gli indici che erano stati cancellati"
   ]
  },
  {
   "cell_type": "markdown",
   "metadata": {},
   "source": [
    "Una volta puliti i country_code è possibile calcolarsi la somma dei funded_amounts per ciascuna nazione (individuata dai country_code)"
   ]
  },
  {
   "cell_type": "code",
   "execution_count": 30,
   "metadata": {},
   "outputs": [
    {
     "data": {
      "text/html": [
       "<div>\n",
       "<style scoped>\n",
       "    .dataframe tbody tr th:only-of-type {\n",
       "        vertical-align: middle;\n",
       "    }\n",
       "\n",
       "    .dataframe tbody tr th {\n",
       "        vertical-align: top;\n",
       "    }\n",
       "\n",
       "    .dataframe thead th {\n",
       "        text-align: right;\n",
       "    }\n",
       "</style>\n",
       "<table border=\"1\" class=\"dataframe\">\n",
       "  <thead>\n",
       "    <tr style=\"text-align: right;\">\n",
       "      <th></th>\n",
       "      <th>country_code</th>\n",
       "      <th>funded_amount</th>\n",
       "    </tr>\n",
       "  </thead>\n",
       "  <tbody>\n",
       "    <tr>\n",
       "      <th>0</th>\n",
       "      <td>AF</td>\n",
       "      <td>1964650.0</td>\n",
       "    </tr>\n",
       "    <tr>\n",
       "      <th>1</th>\n",
       "      <td>AL</td>\n",
       "      <td>3992475.0</td>\n",
       "    </tr>\n",
       "    <tr>\n",
       "      <th>2</th>\n",
       "      <td>AM</td>\n",
       "      <td>20284675.0</td>\n",
       "    </tr>\n",
       "    <tr>\n",
       "      <th>3</th>\n",
       "      <td>AZ</td>\n",
       "      <td>14191350.0</td>\n",
       "    </tr>\n",
       "    <tr>\n",
       "      <th>4</th>\n",
       "      <td>BA</td>\n",
       "      <td>477250.0</td>\n",
       "    </tr>\n",
       "    <tr>\n",
       "      <th>5</th>\n",
       "      <td>BF</td>\n",
       "      <td>4042950.0</td>\n",
       "    </tr>\n",
       "    <tr>\n",
       "      <th>6</th>\n",
       "      <td>BG</td>\n",
       "      <td>375300.0</td>\n",
       "    </tr>\n",
       "    <tr>\n",
       "      <th>7</th>\n",
       "      <td>BI</td>\n",
       "      <td>5119300.0</td>\n",
       "    </tr>\n",
       "    <tr>\n",
       "      <th>8</th>\n",
       "      <td>BJ</td>\n",
       "      <td>3829925.0</td>\n",
       "    </tr>\n",
       "    <tr>\n",
       "      <th>9</th>\n",
       "      <td>BO</td>\n",
       "      <td>41814950.0</td>\n",
       "    </tr>\n",
       "  </tbody>\n",
       "</table>\n",
       "</div>"
      ],
      "text/plain": [
       "  country_code  funded_amount\n",
       "0           AF      1964650.0\n",
       "1           AL      3992475.0\n",
       "2           AM     20284675.0\n",
       "3           AZ     14191350.0\n",
       "4           BA       477250.0\n",
       "5           BF      4042950.0\n",
       "6           BG       375300.0\n",
       "7           BI      5119300.0\n",
       "8           BJ      3829925.0\n",
       "9           BO     41814950.0"
      ]
     },
     "execution_count": 30,
     "metadata": {},
     "output_type": "execute_result"
    },
    {
     "name": "stdout",
     "output_type": "stream",
     "text": [
      "time: 1.01 s\n"
     ]
    }
   ],
   "source": [
    "amBorXCountry=amount[['country_code','funded_amount']].groupby('country_code').sum()\n",
    "amBorXCountry=pd.DataFrame(amBorXCountry).reset_index()\n",
    "amBorXCountry.head(10)"
   ]
  },
  {
   "cell_type": "code",
   "execution_count": 31,
   "metadata": {},
   "outputs": [
    {
     "data": {
      "text/plain": [
       "Text(0.5, 1.0, 'Barplot con ammontare borrowed per nazione')"
      ]
     },
     "execution_count": 31,
     "metadata": {},
     "output_type": "execute_result"
    },
    {
     "data": {
      "image/png": "[encoded data removed]",
      "text/plain": [
       "<Figure size 1584x720 with 1 Axes>"
      ]
     },
     "metadata": {},
     "output_type": "display_data"
    },
    {
     "name": "stdout",
     "output_type": "stream",
     "text": [
      "time: 2.82 s\n"
     ]
    }
   ],
   "source": [
    "sea.catplot(\"country_code\",\"funded_amount\", data=amBorXCountry.sort_values('funded_amount',ascending=0),kind=\"bar\",height=10, aspect=2.2,color='red')\n",
    "plt.title('Barplot con ammontare borrowed per nazione')"
   ]
  },
  {
   "cell_type": "markdown",
   "metadata": {},
   "source": [
    "## Question 8:"
   ]
  },
  {
   "cell_type": "markdown",
   "metadata": {},
   "source": [
    "### - For each lender, compute the overall amount of money lent. For each loan that has more than one lender, you must assume that all lenders contributed the same amount"
   ]
  },
  {
   "cell_type": "markdown",
   "metadata": {},
   "source": [
    "Abbiamo deciso di spostare il punto 8 prima del 6 e del 7 in quanto necessario per entrambi.\n",
    "Per imputare a ciascun lender l'ammontare di prestito che ha finanziato assumiamo (come da consegna) che ciascun lender contribuisca egualmente; il primo passo è quindi il calcolo del numero dei lenders su ogni loan_id. Poichè il numero di lenders ricavabile da loans_lender è diverso da quello ricavabile da loans (colonna num_lenders_total), decidiamo di utilizzare il primo (calcolandolo con una groupby su loan_id)"
   ]
  },
  {
   "cell_type": "code",
   "execution_count": 32,
   "metadata": {},
   "outputs": [
    {
     "name": "stdout",
     "output_type": "stream",
     "text": [
      "time: 1.67 s\n"
     ]
    }
   ],
   "source": [
    "numlend=pd.DataFrame(dfLend.groupby(dfLend['loan_id']).size()).reset_index().rename(columns={0:'Size'})"
   ]
  },
  {
   "cell_type": "markdown",
   "metadata": {},
   "source": [
    "A questo punto utilizziamo una merge per aggiungere a ciascuna riga loan_id-lender, una colonna con il numero di lender che partecipano al prestito considerato"
   ]
  },
  {
   "cell_type": "code",
   "execution_count": 33,
   "metadata": {},
   "outputs": [
    {
     "name": "stdout",
     "output_type": "stream",
     "text": [
      "time: 6.38 s\n"
     ]
    }
   ],
   "source": [
    "dfLend=pd.merge(dfLend,numlend)"
   ]
  },
  {
   "cell_type": "markdown",
   "metadata": {},
   "source": [
    "Stessa cose per aggiungere una colonna con i funded_amount relativi al prestito considerato"
   ]
  },
  {
   "cell_type": "code",
   "execution_count": 34,
   "metadata": {},
   "outputs": [
    {
     "name": "stdout",
     "output_type": "stream",
     "text": [
      "time: 5.62 s\n"
     ]
    }
   ],
   "source": [
    "dfLend=pd.merge(dfLend,loans[['loan_id','funded_amount']])"
   ]
  },
  {
   "cell_type": "markdown",
   "metadata": {},
   "source": [
    "Infine creiamo una nuova variabile (per capita) data dal valore del funde_amount fratto il numero di lenders che partecipano al prestito"
   ]
  },
  {
   "cell_type": "code",
   "execution_count": 35,
   "metadata": {},
   "outputs": [
    {
     "name": "stdout",
     "output_type": "stream",
     "text": [
      "time: 347 ms\n"
     ]
    }
   ],
   "source": [
    "dfLend['per_capita']=dfLend['funded_amount']/dfLend['Size']"
   ]
  },
  {
   "cell_type": "markdown",
   "metadata": {},
   "source": [
    "Infine con una groupby otteniamo la quantità totale di finanziamenti per ciascun lender"
   ]
  },
  {
   "cell_type": "code",
   "execution_count": 36,
   "metadata": {},
   "outputs": [
    {
     "data": {
      "text/html": [
       "<div>\n",
       "<style scoped>\n",
       "    .dataframe tbody tr th:only-of-type {\n",
       "        vertical-align: middle;\n",
       "    }\n",
       "\n",
       "    .dataframe tbody tr th {\n",
       "        vertical-align: top;\n",
       "    }\n",
       "\n",
       "    .dataframe thead th {\n",
       "        text-align: right;\n",
       "    }\n",
       "</style>\n",
       "<table border=\"1\" class=\"dataframe\">\n",
       "  <thead>\n",
       "    <tr style=\"text-align: right;\">\n",
       "      <th></th>\n",
       "      <th>per_capita</th>\n",
       "    </tr>\n",
       "    <tr>\n",
       "      <th>lenders</th>\n",
       "      <th></th>\n",
       "    </tr>\n",
       "  </thead>\n",
       "  <tbody>\n",
       "    <tr>\n",
       "      <th>000</th>\n",
       "      <td>1703.868411</td>\n",
       "    </tr>\n",
       "    <tr>\n",
       "      <th>00000</th>\n",
       "      <td>1379.750248</td>\n",
       "    </tr>\n",
       "    <tr>\n",
       "      <th>0002</th>\n",
       "      <td>2472.563566</td>\n",
       "    </tr>\n",
       "    <tr>\n",
       "      <th>00mike00</th>\n",
       "      <td>52.631579</td>\n",
       "    </tr>\n",
       "    <tr>\n",
       "      <th>0101craign0101</th>\n",
       "      <td>2623.565117</td>\n",
       "    </tr>\n",
       "    <tr>\n",
       "      <th>0132575</th>\n",
       "      <td>117.678140</td>\n",
       "    </tr>\n",
       "    <tr>\n",
       "      <th>0154884</th>\n",
       "      <td>136.342116</td>\n",
       "    </tr>\n",
       "    <tr>\n",
       "      <th>0161130</th>\n",
       "      <td>74.779412</td>\n",
       "    </tr>\n",
       "    <tr>\n",
       "      <th>0169713</th>\n",
       "      <td>128.839390</td>\n",
       "    </tr>\n",
       "    <tr>\n",
       "      <th>0185429</th>\n",
       "      <td>57.674632</td>\n",
       "    </tr>\n",
       "  </tbody>\n",
       "</table>\n",
       "</div>"
      ],
      "text/plain": [
       "                 per_capita\n",
       "lenders                    \n",
       "000             1703.868411\n",
       "00000           1379.750248\n",
       "0002            2472.563566\n",
       "00mike00          52.631579\n",
       "0101craign0101  2623.565117\n",
       "0132575          117.678140\n",
       "0154884          136.342116\n",
       "0161130           74.779412\n",
       "0169713          128.839390\n",
       "0185429           57.674632"
      ]
     },
     "execution_count": 36,
     "metadata": {},
     "output_type": "execute_result"
    },
    {
     "name": "stdout",
     "output_type": "stream",
     "text": [
      "time: 17.7 s\n"
     ]
    }
   ],
   "source": [
    "perCapita=dfLend[['lenders','per_capita']].groupby('lenders').sum()\n",
    "perCapita.head(10)\n",
    "# Totale di denaro prestato da ciascun lender"
   ]
  },
  {
   "cell_type": "code",
   "execution_count": 37,
   "metadata": {},
   "outputs": [
    {
     "data": {
      "text/plain": [
       "Text(0.5, 1.0, '10 lenders che hanno finanziato le somme maggiori')"
      ]
     },
     "execution_count": 37,
     "metadata": {},
     "output_type": "execute_result"
    },
    {
     "data": {
      "image/png": "[encoded data removed]",
      "text/plain": [
       "<Figure size 900x360 with 1 Axes>"
      ]
     },
     "metadata": {},
     "output_type": "display_data"
    },
    {
     "name": "stdout",
     "output_type": "stream",
     "text": [
      "time: 1.27 s\n"
     ]
    }
   ],
   "source": [
    "sea.catplot(\"lenders\",\"per_capita\", data=pd.DataFrame(perCapita).reset_index().sort_values('per_capita',ascending=False).head(10),kind=\"bar\", aspect=2.5)\n",
    "plt.title('10 lenders che hanno finanziato le somme maggiori')"
   ]
  },
  {
   "cell_type": "markdown",
   "metadata": {},
   "source": [
    "## Question 6:"
   ]
  },
  {
   "cell_type": "markdown",
   "metadata": {},
   "source": [
    "### - Like the previous point (5), but expressed as a percentage of the overall amount lent."
   ]
  },
  {
   "cell_type": "markdown",
   "metadata": {},
   "source": [
    "La consegna richiede il calcolo della percentuale di ammontare dei prestiti che hanno coinvolto ciascuna nazione come richiedente, sull'ammontare che l'hanno vista convolta come prestatrice. Importiamo la tabella lenders, la quale ha le informazioni riguardanti i prestatori (tra cui la nazionalità)."
   ]
  },
  {
   "cell_type": "code",
   "execution_count": 38,
   "metadata": {},
   "outputs": [
    {
     "name": "stdout",
     "output_type": "stream",
     "text": [
      "time: 5.19 s\n"
     ]
    }
   ],
   "source": [
    "lenders=pd.read_csv('lenders.csv')"
   ]
  },
  {
   "cell_type": "markdown",
   "metadata": {},
   "source": [
    "Per prima cosa risolviamo il problema del country_code della Namibia, imputando con la stringa 'NA' all'unico lender che ha partecipato ad un prestito (ckqdm1115)"
   ]
  },
  {
   "cell_type": "code",
   "execution_count": null,
   "metadata": {},
   "outputs": [],
   "source": [
    "# lenders[lenders['state']=='Namibia']\n",
    "# dfLend[dfLend['lenders']=='jakeskaova9324']\n",
    "# dfLend[dfLend['lenders']=='doreen3422']\n",
    "# dfLend[dfLend['lenders']=='ckqdm1115']"
   ]
  },
  {
   "cell_type": "code",
   "execution_count": 40,
   "metadata": {},
   "outputs": [
    {
     "name": "stdout",
     "output_type": "stream",
     "text": [
      "time: 942 ms\n"
     ]
    }
   ],
   "source": [
    "lenders['country_code']=lenders['country_code'].mask(lenders['state'].isin(['Namibia']),\n",
    "                                                     lenders['country_code'].fillna('NA'))\n",
    "# imputazione di country_code per i lender della Namibia"
   ]
  },
  {
   "cell_type": "markdown",
   "metadata": {},
   "source": [
    "Il primo grande problema riguarda le discrepanze tra i country_code presenti nel dataframe lenders: infatti sono presenti 235 country_code (quasi 40 in più delle nazioni esistenti), contro i 174 presenti in country_stats. Utilizzando sempre country_stats come riferimento settiamo a missing i country_code non presenti."
   ]
  },
  {
   "cell_type": "code",
   "execution_count": 41,
   "metadata": {},
   "outputs": [
    {
     "name": "stdout",
     "output_type": "stream",
     "text": [
      "time: 160 ms\n"
     ]
    }
   ],
   "source": [
    "a=list(lenders['country_code'].unique())\n",
    "len(a) #235 country code in lenders, più delle 174 nazioni in country_stats\n",
    "c=pd.DataFrame(a,columns=['country_code'])"
   ]
  },
  {
   "cell_type": "code",
   "execution_count": 42,
   "metadata": {},
   "outputs": [
    {
     "name": "stdout",
     "output_type": "stream",
     "text": [
      "time: 92 ms\n"
     ]
    }
   ],
   "source": [
    "b=c.merge(country_stats[['country_code','country_name']],on='country_code')"
   ]
  },
  {
   "cell_type": "markdown",
   "metadata": {},
   "source": [
    "Mettiamo i country_code non presenti in stats in una lista"
   ]
  },
  {
   "cell_type": "code",
   "execution_count": 43,
   "metadata": {},
   "outputs": [
    {
     "data": {
      "text/plain": [
       "64"
      ]
     },
     "execution_count": 43,
     "metadata": {},
     "output_type": "execute_result"
    },
    {
     "name": "stdout",
     "output_type": "stream",
     "text": [
      "time: 297 ms\n"
     ]
    }
   ],
   "source": [
    "linomatch=[]\n",
    "for el in lenders['country_code'].unique(): \n",
    "    if pd.isnull(el)==False:\n",
    "        if not el in country_stats['country_code'].unique():\n",
    "            linomatch.append(el)\n",
    "len(linomatch) ##64             "
   ]
  },
  {
   "cell_type": "markdown",
   "metadata": {},
   "source": [
    "Si può subito notare come i lenders con country_code presente nella lista nomatch hanno numerose irregolarità; per esempio il code AD corrisponde a nazioni: asdkjl, Andorra, Barcellona, KS...che chiaramente non sono nazioni. La soluzione è settarli a NaN"
   ]
  },
  {
   "cell_type": "code",
   "execution_count": 44,
   "metadata": {},
   "outputs": [
    {
     "name": "stdout",
     "output_type": "stream",
     "text": [
      "time: 40 ms\n"
     ]
    }
   ],
   "source": [
    "#lenders[lenders['country_code']==linomatch[3]]"
   ]
  },
  {
   "cell_type": "code",
   "execution_count": 45,
   "metadata": {},
   "outputs": [
    {
     "name": "stdout",
     "output_type": "stream",
     "text": [
      "time: 4.89 s\n"
     ]
    }
   ],
   "source": [
    "country_code=[]\n",
    "for el in lenders['country_code']:\n",
    "    if el in linomatch:\n",
    "        a=float('nan')\n",
    "    else:\n",
    "        a=el\n",
    "    country_code.append(a) ##setto a nan i country_code che non coincidono con quelli di stats"
   ]
  },
  {
   "cell_type": "markdown",
   "metadata": {},
   "source": [
    "Per imputare i valori macanti di country_code per la tabella lenders utilizziamo un metodo basato sulla probabilità di occorrenza di ciascuno country_code (calcolato sulle osservazioni non missing); in tal modo si riesce a mantenere, con un margine di errore dovuto alla casualità, a mantenere la distribuzione di frequenza campionaria dei country_code. Il campione arà formato dagli 890539 country_code non missing.\n",
    "Per prima cosa calcoliamo le frequenze assolute di ciascun country_code"
   ]
  },
  {
   "cell_type": "code",
   "execution_count": 46,
   "metadata": {},
   "outputs": [
    {
     "name": "stdout",
     "output_type": "stream",
     "text": [
      "time: 1.76 s\n"
     ]
    }
   ],
   "source": [
    "lenders['country_code2']=country_code\n",
    "lendersXcountry=lenders[lenders['country_code']!=float('nan')].groupby('country_code2').size()\n",
    "length=len(lenders)-sum(lenders['country_code'].isnull())#890539 country_code presenti"
   ]
  },
  {
   "cell_type": "markdown",
   "metadata": {},
   "source": [
    "Calcoliamo la frequenza relativa di ciascun country_code (dividendo la freq. assoluta per la numerosità totale dei non missing = 890539)"
   ]
  },
  {
   "cell_type": "code",
   "execution_count": 47,
   "metadata": {},
   "outputs": [
    {
     "name": "stdout",
     "output_type": "stream",
     "text": [
      "time: 3.99 ms\n"
     ]
    }
   ],
   "source": [
    "percXcountry=pd.DataFrame(lendersXcountry/length).reset_index().rename(columns={0:'perc'})"
   ]
  },
  {
   "cell_type": "markdown",
   "metadata": {},
   "source": [
    "Poichè per l'imputazione casuale serve che le probabilità sommino a 1, normalizziamo le percentuali"
   ]
  },
  {
   "cell_type": "code",
   "execution_count": 48,
   "metadata": {},
   "outputs": [
    {
     "name": "stdout",
     "output_type": "stream",
     "text": [
      "time: 1.01 s\n"
     ]
    }
   ],
   "source": [
    "percXcountry['perc']=percXcountry['perc']/sum(percXcountry['perc'])"
   ]
  },
  {
   "cell_type": "markdown",
   "metadata": {},
   "source": [
    "Utilizziamo la funzione di numpy (random.choice), la quale ci permette di imputare valori casualmente, seguendo una data distribuzione di probabilità (data dalla variabile campionaria 'perc'). Il ciclo for mantiene il country_code quando presente e lo  imputa quando è missing."
   ]
  },
  {
   "cell_type": "code",
   "execution_count": 49,
   "metadata": {},
   "outputs": [
    {
     "name": "stdout",
     "output_type": "stream",
     "text": [
      "time: 2min 49s\n"
     ]
    }
   ],
   "source": [
    "import random\n",
    "import numpy as np\n",
    "random.seed(123)\n",
    "newcountry=[]\n",
    "for el in lenders['country_code2']:\n",
    "    if type(el)==float:\n",
    "        val=np.random.choice(percXcountry['country_code2'], p=percXcountry['perc'])\n",
    "    else:\n",
    "        val=el\n",
    "    newcountry.append(val)"
   ]
  },
  {
   "cell_type": "markdown",
   "metadata": {},
   "source": [
    "Imputati i country_code si può passare a unire i dataset dfLend (contenete il valore di loan finanziato procapite), con il dataframe lenders (contenente i country_code completi)."
   ]
  },
  {
   "cell_type": "code",
   "execution_count": 50,
   "metadata": {},
   "outputs": [
    {
     "name": "stdout",
     "output_type": "stream",
     "text": [
      "time: 33.1 s\n"
     ]
    }
   ],
   "source": [
    "lenders['country_code2']=newcountry\n",
    "dfLendCountry=dfLend.merge(lenders[['permanent_name','country_code2']],left_on='lenders',right_on='permanent_name')"
   ]
  },
  {
   "cell_type": "code",
   "execution_count": 51,
   "metadata": {},
   "outputs": [
    {
     "name": "stdout",
     "output_type": "stream",
     "text": [
      "time: 481 ms\n"
     ]
    }
   ],
   "source": [
    "del dfLendCountry['permanent_name']"
   ]
  },
  {
   "cell_type": "markdown",
   "metadata": {},
   "source": [
    "Con una groupby su country_code calcoliamo il valore totale dei finanziamenti (intesi somma dell'ammontare procapite di ciascun lender) provenienti da ciascuna nazione."
   ]
  },
  {
   "cell_type": "code",
   "execution_count": 52,
   "metadata": {},
   "outputs": [
    {
     "name": "stdout",
     "output_type": "stream",
     "text": [
      "time: 8.48 s\n"
     ]
    }
   ],
   "source": [
    "amLendXCountry=pd.DataFrame(dfLendCountry[['country_code2','per_capita']].groupby('country_code2').sum()).reset_index()\n",
    "amLendXCountry['country_code']=amLendXCountry['country_code2']\n",
    "del amLendXCountry['country_code2']"
   ]
  },
  {
   "cell_type": "markdown",
   "metadata": {},
   "source": [
    "Essendovi una nazione (CHAD,TD) che compare in loans ma non in lenders, optiamo per una left join, in modo da non avere percentuali impossibili da calcolare (20075/NaN o 20075/0)."
   ]
  },
  {
   "cell_type": "code",
   "execution_count": 53,
   "metadata": {},
   "outputs": [
    {
     "data": {
      "text/html": [
       "<div>\n",
       "<style scoped>\n",
       "    .dataframe tbody tr th:only-of-type {\n",
       "        vertical-align: middle;\n",
       "    }\n",
       "\n",
       "    .dataframe tbody tr th {\n",
       "        vertical-align: top;\n",
       "    }\n",
       "\n",
       "    .dataframe thead th {\n",
       "        text-align: right;\n",
       "    }\n",
       "</style>\n",
       "<table border=\"1\" class=\"dataframe\">\n",
       "  <thead>\n",
       "    <tr style=\"text-align: right;\">\n",
       "      <th></th>\n",
       "      <th>per_capita</th>\n",
       "      <th>country_code</th>\n",
       "      <th>funded_amount</th>\n",
       "    </tr>\n",
       "  </thead>\n",
       "  <tbody>\n",
       "    <tr>\n",
       "      <th>0</th>\n",
       "      <td>1.915322e+06</td>\n",
       "      <td>AE</td>\n",
       "      <td>NaN</td>\n",
       "    </tr>\n",
       "    <tr>\n",
       "      <th>1</th>\n",
       "      <td>1.570816e+05</td>\n",
       "      <td>AF</td>\n",
       "      <td>1964650.0</td>\n",
       "    </tr>\n",
       "    <tr>\n",
       "      <th>2</th>\n",
       "      <td>2.582410e+04</td>\n",
       "      <td>AL</td>\n",
       "      <td>3992475.0</td>\n",
       "    </tr>\n",
       "    <tr>\n",
       "      <th>3</th>\n",
       "      <td>3.815660e+04</td>\n",
       "      <td>AM</td>\n",
       "      <td>20284675.0</td>\n",
       "    </tr>\n",
       "    <tr>\n",
       "      <th>4</th>\n",
       "      <td>3.966385e+04</td>\n",
       "      <td>AO</td>\n",
       "      <td>NaN</td>\n",
       "    </tr>\n",
       "    <tr>\n",
       "      <th>5</th>\n",
       "      <td>2.079591e+06</td>\n",
       "      <td>AR</td>\n",
       "      <td>NaN</td>\n",
       "    </tr>\n",
       "    <tr>\n",
       "      <th>6</th>\n",
       "      <td>3.063531e+06</td>\n",
       "      <td>AT</td>\n",
       "      <td>NaN</td>\n",
       "    </tr>\n",
       "    <tr>\n",
       "      <th>7</th>\n",
       "      <td>5.908935e+07</td>\n",
       "      <td>AU</td>\n",
       "      <td>NaN</td>\n",
       "    </tr>\n",
       "    <tr>\n",
       "      <th>8</th>\n",
       "      <td>1.452093e+04</td>\n",
       "      <td>AZ</td>\n",
       "      <td>14191350.0</td>\n",
       "    </tr>\n",
       "    <tr>\n",
       "      <th>9</th>\n",
       "      <td>6.877971e+04</td>\n",
       "      <td>BA</td>\n",
       "      <td>477250.0</td>\n",
       "    </tr>\n",
       "  </tbody>\n",
       "</table>\n",
       "</div>"
      ],
      "text/plain": [
       "     per_capita country_code  funded_amount\n",
       "0  1.915322e+06           AE            NaN\n",
       "1  1.570816e+05           AF      1964650.0\n",
       "2  2.582410e+04           AL      3992475.0\n",
       "3  3.815660e+04           AM     20284675.0\n",
       "4  3.966385e+04           AO            NaN\n",
       "5  2.079591e+06           AR            NaN\n",
       "6  3.063531e+06           AT            NaN\n",
       "7  5.908935e+07           AU            NaN\n",
       "8  1.452093e+04           AZ     14191350.0\n",
       "9  6.877971e+04           BA       477250.0"
      ]
     },
     "execution_count": 53,
     "metadata": {},
     "output_type": "execute_result"
    },
    {
     "name": "stdout",
     "output_type": "stream",
     "text": [
      "time: 100 ms\n"
     ]
    }
   ],
   "source": [
    "# amXCountry=pd.merge(amLendXCountry,amBorXCountry,how='outer') -->  [171\tNaN\tTD\t20075.0]\n",
    "amXCountry=pd.merge(amLendXCountry,amBorXCountry,how='left')\n",
    "amXCountry.head(10)"
   ]
  },
  {
   "cell_type": "markdown",
   "metadata": {},
   "source": [
    "Settiamo a 0 i valori NaN di lended_amount e borrowed_amount, poichè indicano che la nazione non ha mai finanziato o richiesto in prestito. Calcoliamo infine la percentuale (espressa come (lended_amount/borrowed_amount)*100) per ciascuna nazione"
   ]
  },
  {
   "cell_type": "code",
   "execution_count": 54,
   "metadata": {},
   "outputs": [
    {
     "data": {
      "text/html": [
       "<div>\n",
       "<style scoped>\n",
       "    .dataframe tbody tr th:only-of-type {\n",
       "        vertical-align: middle;\n",
       "    }\n",
       "\n",
       "    .dataframe tbody tr th {\n",
       "        vertical-align: top;\n",
       "    }\n",
       "\n",
       "    .dataframe thead th {\n",
       "        text-align: right;\n",
       "    }\n",
       "</style>\n",
       "<table border=\"1\" class=\"dataframe\">\n",
       "  <thead>\n",
       "    <tr style=\"text-align: right;\">\n",
       "      <th></th>\n",
       "      <th>country_code</th>\n",
       "      <th>borrowed_amount</th>\n",
       "      <th>lended_amount</th>\n",
       "      <th>perc</th>\n",
       "    </tr>\n",
       "  </thead>\n",
       "  <tbody>\n",
       "    <tr>\n",
       "      <th>0</th>\n",
       "      <td>AE</td>\n",
       "      <td>0.00</td>\n",
       "      <td>1915321.64</td>\n",
       "      <td>0.00</td>\n",
       "    </tr>\n",
       "    <tr>\n",
       "      <th>1</th>\n",
       "      <td>AF</td>\n",
       "      <td>1964650.00</td>\n",
       "      <td>157081.59</td>\n",
       "      <td>1250.72</td>\n",
       "    </tr>\n",
       "    <tr>\n",
       "      <th>2</th>\n",
       "      <td>AL</td>\n",
       "      <td>3992475.00</td>\n",
       "      <td>25824.10</td>\n",
       "      <td>15460.27</td>\n",
       "    </tr>\n",
       "    <tr>\n",
       "      <th>3</th>\n",
       "      <td>AM</td>\n",
       "      <td>20284675.00</td>\n",
       "      <td>38156.60</td>\n",
       "      <td>53161.64</td>\n",
       "    </tr>\n",
       "    <tr>\n",
       "      <th>4</th>\n",
       "      <td>AO</td>\n",
       "      <td>0.00</td>\n",
       "      <td>39663.85</td>\n",
       "      <td>0.00</td>\n",
       "    </tr>\n",
       "    <tr>\n",
       "      <th>5</th>\n",
       "      <td>AR</td>\n",
       "      <td>0.00</td>\n",
       "      <td>2079591.17</td>\n",
       "      <td>0.00</td>\n",
       "    </tr>\n",
       "    <tr>\n",
       "      <th>6</th>\n",
       "      <td>AT</td>\n",
       "      <td>0.00</td>\n",
       "      <td>3063531.03</td>\n",
       "      <td>0.00</td>\n",
       "    </tr>\n",
       "    <tr>\n",
       "      <th>7</th>\n",
       "      <td>AU</td>\n",
       "      <td>0.00</td>\n",
       "      <td>59089351.52</td>\n",
       "      <td>0.00</td>\n",
       "    </tr>\n",
       "    <tr>\n",
       "      <th>8</th>\n",
       "      <td>AZ</td>\n",
       "      <td>14191350.00</td>\n",
       "      <td>14520.93</td>\n",
       "      <td>97730.34</td>\n",
       "    </tr>\n",
       "    <tr>\n",
       "      <th>9</th>\n",
       "      <td>BA</td>\n",
       "      <td>477250.00</td>\n",
       "      <td>68779.71</td>\n",
       "      <td>693.88</td>\n",
       "    </tr>\n",
       "  </tbody>\n",
       "</table>\n",
       "</div>"
      ],
      "text/plain": [
       "  country_code  borrowed_amount  lended_amount     perc\n",
       "0           AE             0.00     1915321.64     0.00\n",
       "1           AF       1964650.00      157081.59  1250.72\n",
       "2           AL       3992475.00       25824.10 15460.27\n",
       "3           AM      20284675.00       38156.60 53161.64\n",
       "4           AO             0.00       39663.85     0.00\n",
       "5           AR             0.00     2079591.17     0.00\n",
       "6           AT             0.00     3063531.03     0.00\n",
       "7           AU             0.00    59089351.52     0.00\n",
       "8           AZ      14191350.00       14520.93 97730.34\n",
       "9           BA        477250.00       68779.71   693.88"
      ]
     },
     "execution_count": 54,
     "metadata": {},
     "output_type": "execute_result"
    },
    {
     "name": "stdout",
     "output_type": "stream",
     "text": [
      "time: 200 ms\n"
     ]
    }
   ],
   "source": [
    "pd.options.display.float_format = '{:.2f}'.format\n",
    "# settiamo a 0 i NaN presenti in borrowed_ammount, poichè essi segnalano nazioni che hanno finanziato, ma non hanno mai\n",
    "# richiesto in prestito denaro (quindi hanno borrowed_amount=0)\n",
    "amXCountry=amXCountry.fillna(0)\n",
    "amXCountry=amXCountry.rename(columns={'per_capita':'lended_amount',\n",
    "                          'funded_amount':'borrowed_amount'})\n",
    "amXCountry['perc']=amXCountry['borrowed_amount']/amXCountry['lended_amount']*100# percentuale di borrowed_am su lended_am\n",
    "amXCountry=amXCountry[['country_code','borrowed_amount','lended_amount','perc']]\n",
    "amXCountry.head(10)"
   ]
  },
  {
   "cell_type": "markdown",
   "metadata": {},
   "source": [
    "## Question 7: "
   ]
  },
  {
   "cell_type": "markdown",
   "metadata": {},
   "source": [
    "### - Like the three previous points, but split for each year (with respect to disburse time) (diviso in tre punti)"
   ]
  },
  {
   "cell_type": "markdown",
   "metadata": {},
   "source": [
    "### Punto 2 (riferito a question 5)"
   ]
  },
  {
   "cell_type": "markdown",
   "metadata": {},
   "source": [
    "Per prima cosa aggiungiamo una variabile anno (estratta dalla colonna disburse_time della tabella loans)"
   ]
  },
  {
   "cell_type": "code",
   "execution_count": 55,
   "metadata": {},
   "outputs": [
    {
     "name": "stdout",
     "output_type": "stream",
     "text": [
      "time: 1.8 s\n"
     ]
    }
   ],
   "source": [
    "am=pd.merge(amount,loans[['loan_id','disburse_time']])\n",
    "am['year']=am['disburse_time'].dt.year\n",
    "del am['disburse_time']\n",
    "# creiamo una colonna year estratta da loans.disburse_time "
   ]
  },
  {
   "cell_type": "markdown",
   "metadata": {},
   "source": [
    "Utilizziamo una groupby questa volta su country_code e year per calcolare la somma dei finanziamenti per nazione e per anno"
   ]
  },
  {
   "cell_type": "code",
   "execution_count": 56,
   "metadata": {},
   "outputs": [
    {
     "data": {
      "text/html": [
       "<div>\n",
       "<style scoped>\n",
       "    .dataframe tbody tr th:only-of-type {\n",
       "        vertical-align: middle;\n",
       "    }\n",
       "\n",
       "    .dataframe tbody tr th {\n",
       "        vertical-align: top;\n",
       "    }\n",
       "\n",
       "    .dataframe thead th {\n",
       "        text-align: right;\n",
       "    }\n",
       "</style>\n",
       "<table border=\"1\" class=\"dataframe\">\n",
       "  <thead>\n",
       "    <tr style=\"text-align: right;\">\n",
       "      <th></th>\n",
       "      <th></th>\n",
       "      <th>funded_amount</th>\n",
       "    </tr>\n",
       "    <tr>\n",
       "      <th>country_code</th>\n",
       "      <th>year</th>\n",
       "      <th></th>\n",
       "    </tr>\n",
       "  </thead>\n",
       "  <tbody>\n",
       "    <tr>\n",
       "      <th rowspan=\"7\" valign=\"top\">AF</th>\n",
       "      <th>2007.00</th>\n",
       "      <td>194975.00</td>\n",
       "    </tr>\n",
       "    <tr>\n",
       "      <th>2008.00</th>\n",
       "      <td>365375.00</td>\n",
       "    </tr>\n",
       "    <tr>\n",
       "      <th>2009.00</th>\n",
       "      <td>581825.00</td>\n",
       "    </tr>\n",
       "    <tr>\n",
       "      <th>2010.00</th>\n",
       "      <td>563350.00</td>\n",
       "    </tr>\n",
       "    <tr>\n",
       "      <th>2011.00</th>\n",
       "      <td>245125.00</td>\n",
       "    </tr>\n",
       "    <tr>\n",
       "      <th>2015.00</th>\n",
       "      <td>6000.00</td>\n",
       "    </tr>\n",
       "    <tr>\n",
       "      <th>2016.00</th>\n",
       "      <td>8000.00</td>\n",
       "    </tr>\n",
       "    <tr>\n",
       "      <th rowspan=\"3\" valign=\"top\">AL</th>\n",
       "      <th>2012.00</th>\n",
       "      <td>411775.00</td>\n",
       "    </tr>\n",
       "    <tr>\n",
       "      <th>2013.00</th>\n",
       "      <td>780850.00</td>\n",
       "    </tr>\n",
       "    <tr>\n",
       "      <th>2014.00</th>\n",
       "      <td>875225.00</td>\n",
       "    </tr>\n",
       "  </tbody>\n",
       "</table>\n",
       "</div>"
      ],
      "text/plain": [
       "                      funded_amount\n",
       "country_code year                  \n",
       "AF           2007.00      194975.00\n",
       "             2008.00      365375.00\n",
       "             2009.00      581825.00\n",
       "             2010.00      563350.00\n",
       "             2011.00      245125.00\n",
       "             2015.00        6000.00\n",
       "             2016.00        8000.00\n",
       "AL           2012.00      411775.00\n",
       "             2013.00      780850.00\n",
       "             2014.00      875225.00"
      ]
     },
     "execution_count": 56,
     "metadata": {},
     "output_type": "execute_result"
    },
    {
     "name": "stdout",
     "output_type": "stream",
     "text": [
      "time: 383 ms\n"
     ]
    }
   ],
   "source": [
    "borCountryYear=am[['country_code','year','funded_amount']].groupby(['country_code','year']).sum()\n",
    "borCountryYear.head(10)"
   ]
  },
  {
   "cell_type": "markdown",
   "metadata": {},
   "source": [
    "### Punto 1 (riferito a question 4)"
   ]
  },
  {
   "cell_type": "markdown",
   "metadata": {},
   "source": [
    "Calcoliamo utilizzando una groupby (per calcolare la numerosità) per nazione e anno"
   ]
  },
  {
   "cell_type": "code",
   "execution_count": 57,
   "metadata": {},
   "outputs": [
    {
     "data": {
      "text/html": [
       "<div>\n",
       "<style scoped>\n",
       "    .dataframe tbody tr th:only-of-type {\n",
       "        vertical-align: middle;\n",
       "    }\n",
       "\n",
       "    .dataframe tbody tr th {\n",
       "        vertical-align: top;\n",
       "    }\n",
       "\n",
       "    .dataframe thead th {\n",
       "        text-align: right;\n",
       "    }\n",
       "</style>\n",
       "<table border=\"1\" class=\"dataframe\">\n",
       "  <thead>\n",
       "    <tr style=\"text-align: right;\">\n",
       "      <th></th>\n",
       "      <th></th>\n",
       "      <th>0</th>\n",
       "    </tr>\n",
       "    <tr>\n",
       "      <th>country_code</th>\n",
       "      <th>year</th>\n",
       "      <th></th>\n",
       "    </tr>\n",
       "  </thead>\n",
       "  <tbody>\n",
       "    <tr>\n",
       "      <th rowspan=\"7\" valign=\"top\">AF</th>\n",
       "      <th>2007.00</th>\n",
       "      <td>408</td>\n",
       "    </tr>\n",
       "    <tr>\n",
       "      <th>2008.00</th>\n",
       "      <td>370</td>\n",
       "    </tr>\n",
       "    <tr>\n",
       "      <th>2009.00</th>\n",
       "      <td>678</td>\n",
       "    </tr>\n",
       "    <tr>\n",
       "      <th>2010.00</th>\n",
       "      <td>632</td>\n",
       "    </tr>\n",
       "    <tr>\n",
       "      <th>2011.00</th>\n",
       "      <td>247</td>\n",
       "    </tr>\n",
       "    <tr>\n",
       "      <th>2015.00</th>\n",
       "      <td>1</td>\n",
       "    </tr>\n",
       "    <tr>\n",
       "      <th>2016.00</th>\n",
       "      <td>1</td>\n",
       "    </tr>\n",
       "    <tr>\n",
       "      <th rowspan=\"3\" valign=\"top\">AL</th>\n",
       "      <th>2012.00</th>\n",
       "      <td>332</td>\n",
       "    </tr>\n",
       "    <tr>\n",
       "      <th>2013.00</th>\n",
       "      <td>507</td>\n",
       "    </tr>\n",
       "    <tr>\n",
       "      <th>2014.00</th>\n",
       "      <td>603</td>\n",
       "    </tr>\n",
       "  </tbody>\n",
       "</table>\n",
       "</div>"
      ],
      "text/plain": [
       "                        0\n",
       "country_code year        \n",
       "AF           2007.00  408\n",
       "             2008.00  370\n",
       "             2009.00  678\n",
       "             2010.00  632\n",
       "             2011.00  247\n",
       "             2015.00    1\n",
       "             2016.00    1\n",
       "AL           2012.00  332\n",
       "             2013.00  507\n",
       "             2014.00  603"
      ]
     },
     "execution_count": 57,
     "metadata": {},
     "output_type": "execute_result"
    },
    {
     "name": "stdout",
     "output_type": "stream",
     "text": [
      "time: 297 ms\n"
     ]
    }
   ],
   "source": [
    "sizeCountryYear=pd.DataFrame(am.groupby(['country_code','year']).size())\n",
    "sizeCountryYear.head(10)\n",
    "# numero di volte in cui una nazione è stata coinvolta come borrower per anno"
   ]
  },
  {
   "cell_type": "markdown",
   "metadata": {},
   "source": [
    "### Punto 3 (riferito a Question 7)"
   ]
  },
  {
   "cell_type": "markdown",
   "metadata": {},
   "source": [
    "Svolgiamo la question 7 tenendo conto questa volta anche dell'anno..."
   ]
  },
  {
   "cell_type": "code",
   "execution_count": 58,
   "metadata": {},
   "outputs": [
    {
     "name": "stdout",
     "output_type": "stream",
     "text": [
      "time: 15.5 s\n"
     ]
    }
   ],
   "source": [
    "dfLendCountry2=dfLendCountry[['loan_id','per_capita','country_code2']].merge(am[['loan_id','year']])\n",
    "dfLendCountry2['country_code']=dfLendCountry2['country_code2']\n",
    "del dfLendCountry2['country_code2']"
   ]
  },
  {
   "cell_type": "code",
   "execution_count": 59,
   "metadata": {},
   "outputs": [
    {
     "name": "stdout",
     "output_type": "stream",
     "text": [
      "time: 5.09 s\n"
     ]
    }
   ],
   "source": [
    "lendCountryYear=dfLendCountry2[['country_code','per_capita','year']].groupby(['country_code','year']).sum()"
   ]
  },
  {
   "cell_type": "code",
   "execution_count": 60,
   "metadata": {},
   "outputs": [
    {
     "name": "stdout",
     "output_type": "stream",
     "text": [
      "time: 1.57 s\n"
     ]
    }
   ],
   "source": [
    "borlendCountryYear=borCountryYear.merge(lendCountryYear,right_index=True,left_index=True,how='outer')\n",
    "borlendCountryYear=borlendCountryYear.fillna(0)\n",
    "borlendCountryYear=borlendCountryYear.rename(columns={'funded_amount':'borrowed_amount','per_capita':'lended_amount'})\n",
    "borlendCountryYear['perc']=borlendCountryYear['borrowed_amount']/borlendCountryYear['lended_amount']*100"
   ]
  },
  {
   "cell_type": "markdown",
   "metadata": {},
   "source": [
    "... ottenendo così borrowed_amount, lended_amount e la percentuale del primo sul secondo, per ogni nazione e anno"
   ]
  },
  {
   "cell_type": "code",
   "execution_count": 61,
   "metadata": {},
   "outputs": [
    {
     "data": {
      "text/html": [
       "<div>\n",
       "<style scoped>\n",
       "    .dataframe tbody tr th:only-of-type {\n",
       "        vertical-align: middle;\n",
       "    }\n",
       "\n",
       "    .dataframe tbody tr th {\n",
       "        vertical-align: top;\n",
       "    }\n",
       "\n",
       "    .dataframe thead th {\n",
       "        text-align: right;\n",
       "    }\n",
       "</style>\n",
       "<table border=\"1\" class=\"dataframe\">\n",
       "  <thead>\n",
       "    <tr style=\"text-align: right;\">\n",
       "      <th></th>\n",
       "      <th></th>\n",
       "      <th>borrowed_amount</th>\n",
       "      <th>lended_amount</th>\n",
       "      <th>perc</th>\n",
       "    </tr>\n",
       "    <tr>\n",
       "      <th>country_code</th>\n",
       "      <th>year</th>\n",
       "      <th></th>\n",
       "      <th></th>\n",
       "      <th></th>\n",
       "    </tr>\n",
       "  </thead>\n",
       "  <tbody>\n",
       "    <tr>\n",
       "      <th rowspan=\"12\" valign=\"top\">AE</th>\n",
       "      <th>2007.00</th>\n",
       "      <td>0.00</td>\n",
       "      <td>18271.72</td>\n",
       "      <td>0.00</td>\n",
       "    </tr>\n",
       "    <tr>\n",
       "      <th>2008.00</th>\n",
       "      <td>0.00</td>\n",
       "      <td>34424.03</td>\n",
       "      <td>0.00</td>\n",
       "    </tr>\n",
       "    <tr>\n",
       "      <th>2009.00</th>\n",
       "      <td>0.00</td>\n",
       "      <td>72929.37</td>\n",
       "      <td>0.00</td>\n",
       "    </tr>\n",
       "    <tr>\n",
       "      <th>2010.00</th>\n",
       "      <td>0.00</td>\n",
       "      <td>98954.81</td>\n",
       "      <td>0.00</td>\n",
       "    </tr>\n",
       "    <tr>\n",
       "      <th>2011.00</th>\n",
       "      <td>0.00</td>\n",
       "      <td>153999.25</td>\n",
       "      <td>0.00</td>\n",
       "    </tr>\n",
       "    <tr>\n",
       "      <th>2012.00</th>\n",
       "      <td>0.00</td>\n",
       "      <td>210772.15</td>\n",
       "      <td>0.00</td>\n",
       "    </tr>\n",
       "    <tr>\n",
       "      <th>2013.00</th>\n",
       "      <td>0.00</td>\n",
       "      <td>209181.89</td>\n",
       "      <td>0.00</td>\n",
       "    </tr>\n",
       "    <tr>\n",
       "      <th>2014.00</th>\n",
       "      <td>0.00</td>\n",
       "      <td>229826.86</td>\n",
       "      <td>0.00</td>\n",
       "    </tr>\n",
       "    <tr>\n",
       "      <th>2015.00</th>\n",
       "      <td>0.00</td>\n",
       "      <td>253944.16</td>\n",
       "      <td>0.00</td>\n",
       "    </tr>\n",
       "    <tr>\n",
       "      <th>2016.00</th>\n",
       "      <td>0.00</td>\n",
       "      <td>288916.93</td>\n",
       "      <td>0.00</td>\n",
       "    </tr>\n",
       "    <tr>\n",
       "      <th>2017.00</th>\n",
       "      <td>0.00</td>\n",
       "      <td>341423.11</td>\n",
       "      <td>0.00</td>\n",
       "    </tr>\n",
       "    <tr>\n",
       "      <th>2018.00</th>\n",
       "      <td>0.00</td>\n",
       "      <td>1229.89</td>\n",
       "      <td>0.00</td>\n",
       "    </tr>\n",
       "    <tr>\n",
       "      <th rowspan=\"3\" valign=\"top\">AF</th>\n",
       "      <th>2006.00</th>\n",
       "      <td>0.00</td>\n",
       "      <td>2441.41</td>\n",
       "      <td>0.00</td>\n",
       "    </tr>\n",
       "    <tr>\n",
       "      <th>2007.00</th>\n",
       "      <td>194975.00</td>\n",
       "      <td>9275.07</td>\n",
       "      <td>2102.14</td>\n",
       "    </tr>\n",
       "    <tr>\n",
       "      <th>2008.00</th>\n",
       "      <td>365375.00</td>\n",
       "      <td>5981.67</td>\n",
       "      <td>6108.24</td>\n",
       "    </tr>\n",
       "  </tbody>\n",
       "</table>\n",
       "</div>"
      ],
      "text/plain": [
       "                      borrowed_amount  lended_amount    perc\n",
       "country_code year                                           \n",
       "AE           2007.00             0.00       18271.72    0.00\n",
       "             2008.00             0.00       34424.03    0.00\n",
       "             2009.00             0.00       72929.37    0.00\n",
       "             2010.00             0.00       98954.81    0.00\n",
       "             2011.00             0.00      153999.25    0.00\n",
       "             2012.00             0.00      210772.15    0.00\n",
       "             2013.00             0.00      209181.89    0.00\n",
       "             2014.00             0.00      229826.86    0.00\n",
       "             2015.00             0.00      253944.16    0.00\n",
       "             2016.00             0.00      288916.93    0.00\n",
       "             2017.00             0.00      341423.11    0.00\n",
       "             2018.00             0.00        1229.89    0.00\n",
       "AF           2006.00             0.00        2441.41    0.00\n",
       "             2007.00        194975.00        9275.07 2102.14\n",
       "             2008.00        365375.00        5981.67 6108.24"
      ]
     },
     "execution_count": 61,
     "metadata": {},
     "output_type": "execute_result"
    },
    {
     "name": "stdout",
     "output_type": "stream",
     "text": [
      "time: 12 ms\n"
     ]
    }
   ],
   "source": [
    "borlendCountryYear.head(15)\n",
    "# dataset con borrowed_amount, lended_amount e percentuale di borrowed/lended per nazione e per anno"
   ]
  },
  {
   "cell_type": "markdown",
   "metadata": {},
   "source": [
    "## Question 9:"
   ]
  },
  {
   "cell_type": "markdown",
   "metadata": {},
   "source": [
    "### - For each country, compute the difference between the overall amount of money lent and the overall amount of money borrowed. Since the country of the lender is often unknown, you can assume that the true distribution among the countries is the same as the one computed from the rows where the country is known."
   ]
  },
  {
   "cell_type": "markdown",
   "metadata": {},
   "source": [
    "Poichè viene richiesta un'operazione simile a quella del punto 6 si utilizza il dataset ottenuto; questa volta viene proposta la differenza tra l'ammontare lended e borrowed per ciascuna nazione"
   ]
  },
  {
   "cell_type": "code",
   "execution_count": 62,
   "metadata": {},
   "outputs": [
    {
     "data": {
      "text/html": [
       "<div>\n",
       "<style scoped>\n",
       "    .dataframe tbody tr th:only-of-type {\n",
       "        vertical-align: middle;\n",
       "    }\n",
       "\n",
       "    .dataframe tbody tr th {\n",
       "        vertical-align: top;\n",
       "    }\n",
       "\n",
       "    .dataframe thead th {\n",
       "        text-align: right;\n",
       "    }\n",
       "</style>\n",
       "<table border=\"1\" class=\"dataframe\">\n",
       "  <thead>\n",
       "    <tr style=\"text-align: right;\">\n",
       "      <th></th>\n",
       "      <th>country_code</th>\n",
       "      <th>borrowed_amount</th>\n",
       "      <th>lended_amount</th>\n",
       "      <th>perc</th>\n",
       "      <th>differenceL-B</th>\n",
       "    </tr>\n",
       "  </thead>\n",
       "  <tbody>\n",
       "    <tr>\n",
       "      <th>0</th>\n",
       "      <td>AE</td>\n",
       "      <td>0.00</td>\n",
       "      <td>1915321.64</td>\n",
       "      <td>0.00</td>\n",
       "      <td>1915321.64</td>\n",
       "    </tr>\n",
       "    <tr>\n",
       "      <th>1</th>\n",
       "      <td>AF</td>\n",
       "      <td>1964650.00</td>\n",
       "      <td>157081.59</td>\n",
       "      <td>1250.72</td>\n",
       "      <td>-1807568.41</td>\n",
       "    </tr>\n",
       "    <tr>\n",
       "      <th>2</th>\n",
       "      <td>AL</td>\n",
       "      <td>3992475.00</td>\n",
       "      <td>25824.10</td>\n",
       "      <td>15460.27</td>\n",
       "      <td>-3966650.90</td>\n",
       "    </tr>\n",
       "    <tr>\n",
       "      <th>3</th>\n",
       "      <td>AM</td>\n",
       "      <td>20284675.00</td>\n",
       "      <td>38156.60</td>\n",
       "      <td>53161.64</td>\n",
       "      <td>-20246518.40</td>\n",
       "    </tr>\n",
       "    <tr>\n",
       "      <th>4</th>\n",
       "      <td>AO</td>\n",
       "      <td>0.00</td>\n",
       "      <td>39663.85</td>\n",
       "      <td>0.00</td>\n",
       "      <td>39663.85</td>\n",
       "    </tr>\n",
       "    <tr>\n",
       "      <th>5</th>\n",
       "      <td>AR</td>\n",
       "      <td>0.00</td>\n",
       "      <td>2079591.17</td>\n",
       "      <td>0.00</td>\n",
       "      <td>2079591.17</td>\n",
       "    </tr>\n",
       "    <tr>\n",
       "      <th>6</th>\n",
       "      <td>AT</td>\n",
       "      <td>0.00</td>\n",
       "      <td>3063531.03</td>\n",
       "      <td>0.00</td>\n",
       "      <td>3063531.03</td>\n",
       "    </tr>\n",
       "    <tr>\n",
       "      <th>7</th>\n",
       "      <td>AU</td>\n",
       "      <td>0.00</td>\n",
       "      <td>59089351.52</td>\n",
       "      <td>0.00</td>\n",
       "      <td>59089351.52</td>\n",
       "    </tr>\n",
       "    <tr>\n",
       "      <th>8</th>\n",
       "      <td>AZ</td>\n",
       "      <td>14191350.00</td>\n",
       "      <td>14520.93</td>\n",
       "      <td>97730.34</td>\n",
       "      <td>-14176829.07</td>\n",
       "    </tr>\n",
       "    <tr>\n",
       "      <th>9</th>\n",
       "      <td>BA</td>\n",
       "      <td>477250.00</td>\n",
       "      <td>68779.71</td>\n",
       "      <td>693.88</td>\n",
       "      <td>-408470.29</td>\n",
       "    </tr>\n",
       "  </tbody>\n",
       "</table>\n",
       "</div>"
      ],
      "text/plain": [
       "  country_code  borrowed_amount  lended_amount     perc  differenceL-B\n",
       "0           AE             0.00     1915321.64     0.00     1915321.64\n",
       "1           AF       1964650.00      157081.59  1250.72    -1807568.41\n",
       "2           AL       3992475.00       25824.10 15460.27    -3966650.90\n",
       "3           AM      20284675.00       38156.60 53161.64   -20246518.40\n",
       "4           AO             0.00       39663.85     0.00       39663.85\n",
       "5           AR             0.00     2079591.17     0.00     2079591.17\n",
       "6           AT             0.00     3063531.03     0.00     3063531.03\n",
       "7           AU             0.00    59089351.52     0.00    59089351.52\n",
       "8           AZ      14191350.00       14520.93 97730.34   -14176829.07\n",
       "9           BA        477250.00       68779.71   693.88     -408470.29"
      ]
     },
     "execution_count": 62,
     "metadata": {},
     "output_type": "execute_result"
    },
    {
     "name": "stdout",
     "output_type": "stream",
     "text": [
      "time: 875 ms\n"
     ]
    }
   ],
   "source": [
    "amXCountry['differenceL-B']=amXCountry['lended_amount']-amXCountry['borrowed_amount']\n",
    "amXCountry.head(10)"
   ]
  },
  {
   "cell_type": "markdown",
   "metadata": {},
   "source": [
    "## Question 10:"
   ]
  },
  {
   "cell_type": "markdown",
   "metadata": {},
   "source": [
    "### - Which country has the highest ratio between the difference computed at the previous point and the population?"
   ]
  },
  {
   "cell_type": "markdown",
   "metadata": {},
   "source": [
    "Viene calcolato il rapporto tra  la differenza della Question 9 e la numerosità della popolazione, presente in country_stats e senza valori missing."
   ]
  },
  {
   "cell_type": "code",
   "execution_count": 63,
   "metadata": {},
   "outputs": [
    {
     "data": {
      "text/html": [
       "<div>\n",
       "<style scoped>\n",
       "    .dataframe tbody tr th:only-of-type {\n",
       "        vertical-align: middle;\n",
       "    }\n",
       "\n",
       "    .dataframe tbody tr th {\n",
       "        vertical-align: top;\n",
       "    }\n",
       "\n",
       "    .dataframe thead th {\n",
       "        text-align: right;\n",
       "    }\n",
       "</style>\n",
       "<table border=\"1\" class=\"dataframe\">\n",
       "  <thead>\n",
       "    <tr style=\"text-align: right;\">\n",
       "      <th></th>\n",
       "      <th>country_name</th>\n",
       "      <th>country_code</th>\n",
       "      <th>ratio</th>\n",
       "    </tr>\n",
       "  </thead>\n",
       "  <tbody>\n",
       "    <tr>\n",
       "      <th>0</th>\n",
       "      <td>United Arab Emirates</td>\n",
       "      <td>AE</td>\n",
       "      <td>0.20</td>\n",
       "    </tr>\n",
       "    <tr>\n",
       "      <th>1</th>\n",
       "      <td>Afghanistan</td>\n",
       "      <td>AF</td>\n",
       "      <td>-0.05</td>\n",
       "    </tr>\n",
       "    <tr>\n",
       "      <th>2</th>\n",
       "      <td>Albania</td>\n",
       "      <td>AL</td>\n",
       "      <td>-1.35</td>\n",
       "    </tr>\n",
       "    <tr>\n",
       "      <th>3</th>\n",
       "      <td>Armenia</td>\n",
       "      <td>AM</td>\n",
       "      <td>-6.91</td>\n",
       "    </tr>\n",
       "    <tr>\n",
       "      <th>4</th>\n",
       "      <td>Angola</td>\n",
       "      <td>AO</td>\n",
       "      <td>0.00</td>\n",
       "    </tr>\n",
       "    <tr>\n",
       "      <th>5</th>\n",
       "      <td>Argentina</td>\n",
       "      <td>AR</td>\n",
       "      <td>0.05</td>\n",
       "    </tr>\n",
       "    <tr>\n",
       "      <th>6</th>\n",
       "      <td>Austria</td>\n",
       "      <td>AT</td>\n",
       "      <td>0.35</td>\n",
       "    </tr>\n",
       "    <tr>\n",
       "      <th>7</th>\n",
       "      <td>Australia</td>\n",
       "      <td>AU</td>\n",
       "      <td>2.42</td>\n",
       "    </tr>\n",
       "    <tr>\n",
       "      <th>8</th>\n",
       "      <td>Azerbaijan</td>\n",
       "      <td>AZ</td>\n",
       "      <td>-1.44</td>\n",
       "    </tr>\n",
       "    <tr>\n",
       "      <th>9</th>\n",
       "      <td>Bosnia and Herzegovina</td>\n",
       "      <td>BA</td>\n",
       "      <td>-0.12</td>\n",
       "    </tr>\n",
       "  </tbody>\n",
       "</table>\n",
       "</div>"
      ],
      "text/plain": [
       "             country_name country_code  ratio\n",
       "0    United Arab Emirates           AE   0.20\n",
       "1             Afghanistan           AF  -0.05\n",
       "2                 Albania           AL  -1.35\n",
       "3                 Armenia           AM  -6.91\n",
       "4                  Angola           AO   0.00\n",
       "5               Argentina           AR   0.05\n",
       "6                 Austria           AT   0.35\n",
       "7               Australia           AU   2.42\n",
       "8              Azerbaijan           AZ  -1.44\n",
       "9  Bosnia and Herzegovina           BA  -0.12"
      ]
     },
     "execution_count": 63,
     "metadata": {},
     "output_type": "execute_result"
    },
    {
     "name": "stdout",
     "output_type": "stream",
     "text": [
      "time: 615 ms\n"
     ]
    }
   ],
   "source": [
    "pd.get_option('display.max_colwidth')\n",
    "country=country_stats[['country_name','country_code','population','population_below_poverty_line','continent']]\n",
    "country=pd.merge(amXCountry,country,how='left')\n",
    "country['ratio']=country['differenceL-B']/country['population']\n",
    "country[['country_name','country_code','ratio']].head(10)"
   ]
  },
  {
   "cell_type": "markdown",
   "metadata": {},
   "source": [
    "Dalla nuova tabella si può identificare la nazione con il rapporto più elevato"
   ]
  },
  {
   "cell_type": "code",
   "execution_count": 64,
   "metadata": {},
   "outputs": [
    {
     "name": "stdout",
     "output_type": "stream",
     "text": [
      "Nazione con il massimo rapporto: \n",
      " Nazione= Norway | Country Code= NO | Ratio= 3.772\n",
      "time: 92 ms\n"
     ]
    }
   ],
   "source": [
    "print('Nazione con il massimo rapporto:','\\n',\n",
    "      'Nazione=',country['country_name'][country['ratio'].idxmax()],\n",
    "      '|','Country Code=',country['country_code'][country['ratio'].idxmax()],\n",
    "      '|','Ratio=',round(country['ratio'][country['ratio'].idxmax()],3))"
   ]
  },
  {
   "cell_type": "markdown",
   "metadata": {},
   "source": [
    "## Question 11:"
   ]
  },
  {
   "cell_type": "markdown",
   "metadata": {},
   "source": [
    "### - Which country has the highest ratio between the difference computed at point 9 and the population that is not below the poverty line?"
   ]
  },
  {
   "cell_type": "markdown",
   "metadata": {},
   "source": [
    "Essendovi dei valori mancanti nella variabile pop_below_poverty_line, imputiamo utilizzando la media condizionata per continent (poichè putroppo region ha a sua volta numerosi valori mancanti)"
   ]
  },
  {
   "cell_type": "code",
   "execution_count": 65,
   "metadata": {},
   "outputs": [
    {
     "name": "stdout",
     "output_type": "stream",
     "text": [
      "time: 159 ms\n"
     ]
    }
   ],
   "source": [
    "meanCond=country.groupby('continent')['population_below_poverty_line'].mean()\n",
    "# essendoci numerosi missing values in pop_below_poverty_line imputiamo i valori con le medie condizionate per continente\n",
    "# (poichè per region non è possibile essendo assenti tutti i valori per le regioni: Polynesia, Australia&Nuova Zelanda)"
   ]
  },
  {
   "cell_type": "code",
   "execution_count": 66,
   "metadata": {},
   "outputs": [
    {
     "name": "stdout",
     "output_type": "stream",
     "text": [
      "time: 105 ms\n"
     ]
    }
   ],
   "source": [
    "country=country.set_index('continent')\n",
    "country['population_below_poverty_line']=country['population_below_poverty_line'].fillna(meanCond)\n",
    "country=country.reset_index()"
   ]
  },
  {
   "cell_type": "code",
   "execution_count": 67,
   "metadata": {},
   "outputs": [
    {
     "data": {
      "text/html": [
       "<div>\n",
       "<style scoped>\n",
       "    .dataframe tbody tr th:only-of-type {\n",
       "        vertical-align: middle;\n",
       "    }\n",
       "\n",
       "    .dataframe tbody tr th {\n",
       "        vertical-align: top;\n",
       "    }\n",
       "\n",
       "    .dataframe thead th {\n",
       "        text-align: right;\n",
       "    }\n",
       "</style>\n",
       "<table border=\"1\" class=\"dataframe\">\n",
       "  <thead>\n",
       "    <tr style=\"text-align: right;\">\n",
       "      <th></th>\n",
       "      <th>continent</th>\n",
       "      <th>country_code</th>\n",
       "      <th>borrowed_amount</th>\n",
       "      <th>lended_amount</th>\n",
       "      <th>perc</th>\n",
       "      <th>differenceL-B</th>\n",
       "      <th>country_name</th>\n",
       "      <th>population</th>\n",
       "      <th>population_below_poverty_line</th>\n",
       "      <th>ratio</th>\n",
       "    </tr>\n",
       "  </thead>\n",
       "  <tbody>\n",
       "    <tr>\n",
       "      <th>0</th>\n",
       "      <td>Asia</td>\n",
       "      <td>AE</td>\n",
       "      <td>0.00</td>\n",
       "      <td>1915321.64</td>\n",
       "      <td>0.00</td>\n",
       "      <td>1915321.64</td>\n",
       "      <td>United Arab Emirates</td>\n",
       "      <td>9400145</td>\n",
       "      <td>19.50</td>\n",
       "      <td>0.20</td>\n",
       "    </tr>\n",
       "    <tr>\n",
       "      <th>1</th>\n",
       "      <td>Asia</td>\n",
       "      <td>AF</td>\n",
       "      <td>1964650.00</td>\n",
       "      <td>157081.59</td>\n",
       "      <td>1250.72</td>\n",
       "      <td>-1807568.41</td>\n",
       "      <td>Afghanistan</td>\n",
       "      <td>35530081</td>\n",
       "      <td>35.80</td>\n",
       "      <td>-0.05</td>\n",
       "    </tr>\n",
       "    <tr>\n",
       "      <th>2</th>\n",
       "      <td>Europe</td>\n",
       "      <td>AL</td>\n",
       "      <td>3992475.00</td>\n",
       "      <td>25824.10</td>\n",
       "      <td>15460.27</td>\n",
       "      <td>-3966650.90</td>\n",
       "      <td>Albania</td>\n",
       "      <td>2930187</td>\n",
       "      <td>14.30</td>\n",
       "      <td>-1.35</td>\n",
       "    </tr>\n",
       "    <tr>\n",
       "      <th>3</th>\n",
       "      <td>Asia</td>\n",
       "      <td>AM</td>\n",
       "      <td>20284675.00</td>\n",
       "      <td>38156.60</td>\n",
       "      <td>53161.64</td>\n",
       "      <td>-20246518.40</td>\n",
       "      <td>Armenia</td>\n",
       "      <td>2930450</td>\n",
       "      <td>32.00</td>\n",
       "      <td>-6.91</td>\n",
       "    </tr>\n",
       "    <tr>\n",
       "      <th>4</th>\n",
       "      <td>Africa</td>\n",
       "      <td>AO</td>\n",
       "      <td>0.00</td>\n",
       "      <td>39663.85</td>\n",
       "      <td>0.00</td>\n",
       "      <td>39663.85</td>\n",
       "      <td>Angola</td>\n",
       "      <td>29784193</td>\n",
       "      <td>40.50</td>\n",
       "      <td>0.00</td>\n",
       "    </tr>\n",
       "    <tr>\n",
       "      <th>5</th>\n",
       "      <td>Americas</td>\n",
       "      <td>AR</td>\n",
       "      <td>0.00</td>\n",
       "      <td>2079591.17</td>\n",
       "      <td>0.00</td>\n",
       "      <td>2079591.17</td>\n",
       "      <td>Argentina</td>\n",
       "      <td>44271041</td>\n",
       "      <td>32.20</td>\n",
       "      <td>0.05</td>\n",
       "    </tr>\n",
       "    <tr>\n",
       "      <th>6</th>\n",
       "      <td>Europe</td>\n",
       "      <td>AT</td>\n",
       "      <td>0.00</td>\n",
       "      <td>3063531.03</td>\n",
       "      <td>0.00</td>\n",
       "      <td>3063531.03</td>\n",
       "      <td>Austria</td>\n",
       "      <td>8735453</td>\n",
       "      <td>4.00</td>\n",
       "      <td>0.35</td>\n",
       "    </tr>\n",
       "    <tr>\n",
       "      <th>7</th>\n",
       "      <td>Oceania</td>\n",
       "      <td>AU</td>\n",
       "      <td>0.00</td>\n",
       "      <td>59089351.52</td>\n",
       "      <td>0.00</td>\n",
       "      <td>59089351.52</td>\n",
       "      <td>Australia</td>\n",
       "      <td>24450561</td>\n",
       "      <td>34.00</td>\n",
       "      <td>2.42</td>\n",
       "    </tr>\n",
       "    <tr>\n",
       "      <th>8</th>\n",
       "      <td>Asia</td>\n",
       "      <td>AZ</td>\n",
       "      <td>14191350.00</td>\n",
       "      <td>14520.93</td>\n",
       "      <td>97730.34</td>\n",
       "      <td>-14176829.07</td>\n",
       "      <td>Azerbaijan</td>\n",
       "      <td>9827589</td>\n",
       "      <td>4.90</td>\n",
       "      <td>-1.44</td>\n",
       "    </tr>\n",
       "    <tr>\n",
       "      <th>9</th>\n",
       "      <td>Europe</td>\n",
       "      <td>BA</td>\n",
       "      <td>477250.00</td>\n",
       "      <td>68779.71</td>\n",
       "      <td>693.88</td>\n",
       "      <td>-408470.29</td>\n",
       "      <td>Bosnia and Herzegovina</td>\n",
       "      <td>3507017</td>\n",
       "      <td>17.20</td>\n",
       "      <td>-0.12</td>\n",
       "    </tr>\n",
       "  </tbody>\n",
       "</table>\n",
       "</div>"
      ],
      "text/plain": [
       "  continent country_code  borrowed_amount  lended_amount     perc  \\\n",
       "0      Asia           AE             0.00     1915321.64     0.00   \n",
       "1      Asia           AF       1964650.00      157081.59  1250.72   \n",
       "2    Europe           AL       3992475.00       25824.10 15460.27   \n",
       "3      Asia           AM      20284675.00       38156.60 53161.64   \n",
       "4    Africa           AO             0.00       39663.85     0.00   \n",
       "5  Americas           AR             0.00     2079591.17     0.00   \n",
       "6    Europe           AT             0.00     3063531.03     0.00   \n",
       "7   Oceania           AU             0.00    59089351.52     0.00   \n",
       "8      Asia           AZ      14191350.00       14520.93 97730.34   \n",
       "9    Europe           BA        477250.00       68779.71   693.88   \n",
       "\n",
       "   differenceL-B            country_name  population  \\\n",
       "0     1915321.64    United Arab Emirates     9400145   \n",
       "1    -1807568.41             Afghanistan    35530081   \n",
       "2    -3966650.90                 Albania     2930187   \n",
       "3   -20246518.40                 Armenia     2930450   \n",
       "4       39663.85                  Angola    29784193   \n",
       "5     2079591.17               Argentina    44271041   \n",
       "6     3063531.03                 Austria     8735453   \n",
       "7    59089351.52               Australia    24450561   \n",
       "8   -14176829.07              Azerbaijan     9827589   \n",
       "9     -408470.29  Bosnia and Herzegovina     3507017   \n",
       "\n",
       "   population_below_poverty_line  ratio  \n",
       "0                          19.50   0.20  \n",
       "1                          35.80  -0.05  \n",
       "2                          14.30  -1.35  \n",
       "3                          32.00  -6.91  \n",
       "4                          40.50   0.00  \n",
       "5                          32.20   0.05  \n",
       "6                           4.00   0.35  \n",
       "7                          34.00   2.42  \n",
       "8                           4.90  -1.44  \n",
       "9                          17.20  -0.12  "
      ]
     },
     "execution_count": 67,
     "metadata": {},
     "output_type": "execute_result"
    },
    {
     "name": "stdout",
     "output_type": "stream",
     "text": [
      "time: 148 ms\n"
     ]
    }
   ],
   "source": [
    "country.head(10)\n",
    "# si può notare che AU (Australia), la quale è in Oceania, è stata imputata con la media dell'Oceania (34%)"
   ]
  },
  {
   "cell_type": "code",
   "execution_count": 68,
   "metadata": {},
   "outputs": [
    {
     "data": {
      "text/html": [
       "<div>\n",
       "<style scoped>\n",
       "    .dataframe tbody tr th:only-of-type {\n",
       "        vertical-align: middle;\n",
       "    }\n",
       "\n",
       "    .dataframe tbody tr th {\n",
       "        vertical-align: top;\n",
       "    }\n",
       "\n",
       "    .dataframe thead th {\n",
       "        text-align: right;\n",
       "    }\n",
       "</style>\n",
       "<table border=\"1\" class=\"dataframe\">\n",
       "  <thead>\n",
       "    <tr style=\"text-align: right;\">\n",
       "      <th></th>\n",
       "      <th>continent</th>\n",
       "      <th>country_code</th>\n",
       "      <th>borrowed_amount</th>\n",
       "      <th>lended_amount</th>\n",
       "      <th>perc</th>\n",
       "      <th>differenceL-B</th>\n",
       "      <th>country_name</th>\n",
       "      <th>population</th>\n",
       "      <th>population_below_poverty_line</th>\n",
       "      <th>ratio</th>\n",
       "      <th>population_over_poverty</th>\n",
       "    </tr>\n",
       "  </thead>\n",
       "  <tbody>\n",
       "    <tr>\n",
       "      <th>0</th>\n",
       "      <td>Asia</td>\n",
       "      <td>AE</td>\n",
       "      <td>0.00</td>\n",
       "      <td>1915321.64</td>\n",
       "      <td>0.00</td>\n",
       "      <td>1915321.64</td>\n",
       "      <td>United Arab Emirates</td>\n",
       "      <td>9400145</td>\n",
       "      <td>19.50</td>\n",
       "      <td>0.20</td>\n",
       "      <td>7567117.00</td>\n",
       "    </tr>\n",
       "    <tr>\n",
       "      <th>1</th>\n",
       "      <td>Asia</td>\n",
       "      <td>AF</td>\n",
       "      <td>1964650.00</td>\n",
       "      <td>157081.59</td>\n",
       "      <td>1250.72</td>\n",
       "      <td>-1807568.41</td>\n",
       "      <td>Afghanistan</td>\n",
       "      <td>35530081</td>\n",
       "      <td>35.80</td>\n",
       "      <td>-0.05</td>\n",
       "      <td>22810312.00</td>\n",
       "    </tr>\n",
       "    <tr>\n",
       "      <th>2</th>\n",
       "      <td>Europe</td>\n",
       "      <td>AL</td>\n",
       "      <td>3992475.00</td>\n",
       "      <td>25824.10</td>\n",
       "      <td>15460.27</td>\n",
       "      <td>-3966650.90</td>\n",
       "      <td>Albania</td>\n",
       "      <td>2930187</td>\n",
       "      <td>14.30</td>\n",
       "      <td>-1.35</td>\n",
       "      <td>2511170.00</td>\n",
       "    </tr>\n",
       "    <tr>\n",
       "      <th>3</th>\n",
       "      <td>Asia</td>\n",
       "      <td>AM</td>\n",
       "      <td>20284675.00</td>\n",
       "      <td>38156.60</td>\n",
       "      <td>53161.64</td>\n",
       "      <td>-20246518.40</td>\n",
       "      <td>Armenia</td>\n",
       "      <td>2930450</td>\n",
       "      <td>32.00</td>\n",
       "      <td>-6.91</td>\n",
       "      <td>1992706.00</td>\n",
       "    </tr>\n",
       "    <tr>\n",
       "      <th>4</th>\n",
       "      <td>Africa</td>\n",
       "      <td>AO</td>\n",
       "      <td>0.00</td>\n",
       "      <td>39663.85</td>\n",
       "      <td>0.00</td>\n",
       "      <td>39663.85</td>\n",
       "      <td>Angola</td>\n",
       "      <td>29784193</td>\n",
       "      <td>40.50</td>\n",
       "      <td>0.00</td>\n",
       "      <td>17721595.00</td>\n",
       "    </tr>\n",
       "    <tr>\n",
       "      <th>5</th>\n",
       "      <td>Americas</td>\n",
       "      <td>AR</td>\n",
       "      <td>0.00</td>\n",
       "      <td>2079591.17</td>\n",
       "      <td>0.00</td>\n",
       "      <td>2079591.17</td>\n",
       "      <td>Argentina</td>\n",
       "      <td>44271041</td>\n",
       "      <td>32.20</td>\n",
       "      <td>0.05</td>\n",
       "      <td>30015766.00</td>\n",
       "    </tr>\n",
       "    <tr>\n",
       "      <th>6</th>\n",
       "      <td>Europe</td>\n",
       "      <td>AT</td>\n",
       "      <td>0.00</td>\n",
       "      <td>3063531.03</td>\n",
       "      <td>0.00</td>\n",
       "      <td>3063531.03</td>\n",
       "      <td>Austria</td>\n",
       "      <td>8735453</td>\n",
       "      <td>4.00</td>\n",
       "      <td>0.35</td>\n",
       "      <td>8386035.00</td>\n",
       "    </tr>\n",
       "    <tr>\n",
       "      <th>7</th>\n",
       "      <td>Oceania</td>\n",
       "      <td>AU</td>\n",
       "      <td>0.00</td>\n",
       "      <td>59089351.52</td>\n",
       "      <td>0.00</td>\n",
       "      <td>59089351.52</td>\n",
       "      <td>Australia</td>\n",
       "      <td>24450561</td>\n",
       "      <td>34.00</td>\n",
       "      <td>2.42</td>\n",
       "      <td>16137370.00</td>\n",
       "    </tr>\n",
       "    <tr>\n",
       "      <th>8</th>\n",
       "      <td>Asia</td>\n",
       "      <td>AZ</td>\n",
       "      <td>14191350.00</td>\n",
       "      <td>14520.93</td>\n",
       "      <td>97730.34</td>\n",
       "      <td>-14176829.07</td>\n",
       "      <td>Azerbaijan</td>\n",
       "      <td>9827589</td>\n",
       "      <td>4.90</td>\n",
       "      <td>-1.44</td>\n",
       "      <td>9346037.00</td>\n",
       "    </tr>\n",
       "    <tr>\n",
       "      <th>9</th>\n",
       "      <td>Europe</td>\n",
       "      <td>BA</td>\n",
       "      <td>477250.00</td>\n",
       "      <td>68779.71</td>\n",
       "      <td>693.88</td>\n",
       "      <td>-408470.29</td>\n",
       "      <td>Bosnia and Herzegovina</td>\n",
       "      <td>3507017</td>\n",
       "      <td>17.20</td>\n",
       "      <td>-0.12</td>\n",
       "      <td>2903810.00</td>\n",
       "    </tr>\n",
       "  </tbody>\n",
       "</table>\n",
       "</div>"
      ],
      "text/plain": [
       "  continent country_code  borrowed_amount  lended_amount     perc  \\\n",
       "0      Asia           AE             0.00     1915321.64     0.00   \n",
       "1      Asia           AF       1964650.00      157081.59  1250.72   \n",
       "2    Europe           AL       3992475.00       25824.10 15460.27   \n",
       "3      Asia           AM      20284675.00       38156.60 53161.64   \n",
       "4    Africa           AO             0.00       39663.85     0.00   \n",
       "5  Americas           AR             0.00     2079591.17     0.00   \n",
       "6    Europe           AT             0.00     3063531.03     0.00   \n",
       "7   Oceania           AU             0.00    59089351.52     0.00   \n",
       "8      Asia           AZ      14191350.00       14520.93 97730.34   \n",
       "9    Europe           BA        477250.00       68779.71   693.88   \n",
       "\n",
       "   differenceL-B            country_name  population  \\\n",
       "0     1915321.64    United Arab Emirates     9400145   \n",
       "1    -1807568.41             Afghanistan    35530081   \n",
       "2    -3966650.90                 Albania     2930187   \n",
       "3   -20246518.40                 Armenia     2930450   \n",
       "4       39663.85                  Angola    29784193   \n",
       "5     2079591.17               Argentina    44271041   \n",
       "6     3063531.03                 Austria     8735453   \n",
       "7    59089351.52               Australia    24450561   \n",
       "8   -14176829.07              Azerbaijan     9827589   \n",
       "9     -408470.29  Bosnia and Herzegovina     3507017   \n",
       "\n",
       "   population_below_poverty_line  ratio  population_over_poverty  \n",
       "0                          19.50   0.20               7567117.00  \n",
       "1                          35.80  -0.05              22810312.00  \n",
       "2                          14.30  -1.35               2511170.00  \n",
       "3                          32.00  -6.91               1992706.00  \n",
       "4                          40.50   0.00              17721595.00  \n",
       "5                          32.20   0.05              30015766.00  \n",
       "6                           4.00   0.35               8386035.00  \n",
       "7                          34.00   2.42              16137370.00  \n",
       "8                           4.90  -1.44               9346037.00  \n",
       "9                          17.20  -0.12               2903810.00  "
      ]
     },
     "execution_count": 68,
     "metadata": {},
     "output_type": "execute_result"
    },
    {
     "name": "stdout",
     "output_type": "stream",
     "text": [
      "time: 171 ms\n"
     ]
    }
   ],
   "source": [
    "country['population_over_poverty']=round(country['population']*(1-(country['population_below_poverty_line']/100)))\n",
    "country.head(10)\n",
    "## calcolo delle persone sopra la linea di povertà"
   ]
  },
  {
   "cell_type": "markdown",
   "metadata": {},
   "source": [
    "Si può infine visualizzare e confrontare i due rapporti"
   ]
  },
  {
   "cell_type": "code",
   "execution_count": 69,
   "metadata": {},
   "outputs": [
    {
     "data": {
      "text/html": [
       "<div>\n",
       "<style scoped>\n",
       "    .dataframe tbody tr th:only-of-type {\n",
       "        vertical-align: middle;\n",
       "    }\n",
       "\n",
       "    .dataframe tbody tr th {\n",
       "        vertical-align: top;\n",
       "    }\n",
       "\n",
       "    .dataframe thead th {\n",
       "        text-align: right;\n",
       "    }\n",
       "</style>\n",
       "<table border=\"1\" class=\"dataframe\">\n",
       "  <thead>\n",
       "    <tr style=\"text-align: right;\">\n",
       "      <th></th>\n",
       "      <th>country_name</th>\n",
       "      <th>country_code</th>\n",
       "      <th>ratio</th>\n",
       "      <th>ratio2</th>\n",
       "    </tr>\n",
       "  </thead>\n",
       "  <tbody>\n",
       "    <tr>\n",
       "      <th>0</th>\n",
       "      <td>United Arab Emirates</td>\n",
       "      <td>AE</td>\n",
       "      <td>0.20</td>\n",
       "      <td>0.25</td>\n",
       "    </tr>\n",
       "    <tr>\n",
       "      <th>1</th>\n",
       "      <td>Afghanistan</td>\n",
       "      <td>AF</td>\n",
       "      <td>-0.05</td>\n",
       "      <td>-0.08</td>\n",
       "    </tr>\n",
       "    <tr>\n",
       "      <th>2</th>\n",
       "      <td>Albania</td>\n",
       "      <td>AL</td>\n",
       "      <td>-1.35</td>\n",
       "      <td>-1.58</td>\n",
       "    </tr>\n",
       "    <tr>\n",
       "      <th>3</th>\n",
       "      <td>Armenia</td>\n",
       "      <td>AM</td>\n",
       "      <td>-6.91</td>\n",
       "      <td>-10.16</td>\n",
       "    </tr>\n",
       "    <tr>\n",
       "      <th>4</th>\n",
       "      <td>Angola</td>\n",
       "      <td>AO</td>\n",
       "      <td>0.00</td>\n",
       "      <td>0.00</td>\n",
       "    </tr>\n",
       "    <tr>\n",
       "      <th>5</th>\n",
       "      <td>Argentina</td>\n",
       "      <td>AR</td>\n",
       "      <td>0.05</td>\n",
       "      <td>0.07</td>\n",
       "    </tr>\n",
       "    <tr>\n",
       "      <th>6</th>\n",
       "      <td>Austria</td>\n",
       "      <td>AT</td>\n",
       "      <td>0.35</td>\n",
       "      <td>0.37</td>\n",
       "    </tr>\n",
       "    <tr>\n",
       "      <th>7</th>\n",
       "      <td>Australia</td>\n",
       "      <td>AU</td>\n",
       "      <td>2.42</td>\n",
       "      <td>3.66</td>\n",
       "    </tr>\n",
       "    <tr>\n",
       "      <th>8</th>\n",
       "      <td>Azerbaijan</td>\n",
       "      <td>AZ</td>\n",
       "      <td>-1.44</td>\n",
       "      <td>-1.52</td>\n",
       "    </tr>\n",
       "    <tr>\n",
       "      <th>9</th>\n",
       "      <td>Bosnia and Herzegovina</td>\n",
       "      <td>BA</td>\n",
       "      <td>-0.12</td>\n",
       "      <td>-0.14</td>\n",
       "    </tr>\n",
       "  </tbody>\n",
       "</table>\n",
       "</div>"
      ],
      "text/plain": [
       "             country_name country_code  ratio  ratio2\n",
       "0    United Arab Emirates           AE   0.20    0.25\n",
       "1             Afghanistan           AF  -0.05   -0.08\n",
       "2                 Albania           AL  -1.35   -1.58\n",
       "3                 Armenia           AM  -6.91  -10.16\n",
       "4                  Angola           AO   0.00    0.00\n",
       "5               Argentina           AR   0.05    0.07\n",
       "6                 Austria           AT   0.35    0.37\n",
       "7               Australia           AU   2.42    3.66\n",
       "8              Azerbaijan           AZ  -1.44   -1.52\n",
       "9  Bosnia and Herzegovina           BA  -0.12   -0.14"
      ]
     },
     "execution_count": 69,
     "metadata": {},
     "output_type": "execute_result"
    },
    {
     "name": "stdout",
     "output_type": "stream",
     "text": [
      "time: 170 ms\n"
     ]
    }
   ],
   "source": [
    "country['ratio2']=country['differenceL-B']/country['population_over_poverty']\n",
    "country[['country_name','country_code','ratio','ratio2']].head(10)"
   ]
  },
  {
   "cell_type": "markdown",
   "metadata": {},
   "source": [
    "## Question 12"
   ]
  },
  {
   "cell_type": "markdown",
   "metadata": {},
   "source": [
    "### - For each year, compute the total amount of loans. Each loan that has planned expiration time and disburse time in different years must have its amount distributed proportionally to the number of days in each year"
   ]
  },
  {
   "cell_type": "markdown",
   "metadata": {},
   "source": [
    "Importiamo in un nuovo dataframe le colonne di loans: loan_id, loan_amount, disburse_time e planned_expiration_time"
   ]
  },
  {
   "cell_type": "code",
   "execution_count": 70,
   "metadata": {},
   "outputs": [
    {
     "name": "stdout",
     "output_type": "stream",
     "text": [
      "time: 192 ms\n"
     ]
    }
   ],
   "source": [
    "loanXyear=loans[['loan_id','loan_amount','disburse_time','planned_expiration_time']]"
   ]
  },
  {
   "cell_type": "markdown",
   "metadata": {},
   "source": [
    "Dal momento che esistono solamente due loan con sia disburse che planned_expiration mancanti, droppiamo tali righe. Per i prestiti in cui manca solamente una delle due invece imputeremo l'ammontare totale all'anno non missing"
   ]
  },
  {
   "cell_type": "code",
   "execution_count": 71,
   "metadata": {},
   "outputs": [
    {
     "name": "stdout",
     "output_type": "stream",
     "text": [
      "time: 343 ms\n"
     ]
    }
   ],
   "source": [
    "loanXyear=loanXyear.drop(loanXyear[(loanXyear['disburse_time'].isnull())\n",
    "                                   &(loanXyear['planned_expiration_time'].isnull())].index).reset_index()\n",
    "del loanXyear['index']"
   ]
  },
  {
   "cell_type": "code",
   "execution_count": 72,
   "metadata": {},
   "outputs": [
    {
     "data": {
      "text/html": [
       "<div>\n",
       "<style scoped>\n",
       "    .dataframe tbody tr th:only-of-type {\n",
       "        vertical-align: middle;\n",
       "    }\n",
       "\n",
       "    .dataframe tbody tr th {\n",
       "        vertical-align: top;\n",
       "    }\n",
       "\n",
       "    .dataframe thead th {\n",
       "        text-align: right;\n",
       "    }\n",
       "</style>\n",
       "<table border=\"1\" class=\"dataframe\">\n",
       "  <thead>\n",
       "    <tr style=\"text-align: right;\">\n",
       "      <th></th>\n",
       "      <th>loan_id</th>\n",
       "      <th>loan_amount</th>\n",
       "      <th>disburse_time</th>\n",
       "      <th>planned_expiration_time</th>\n",
       "    </tr>\n",
       "  </thead>\n",
       "  <tbody>\n",
       "    <tr>\n",
       "      <th>0</th>\n",
       "      <td>657307</td>\n",
       "      <td>125.00</td>\n",
       "      <td>2013-12-22 08:00:00+00:00</td>\n",
       "      <td>2014-02-14 03:30:06+00:00</td>\n",
       "    </tr>\n",
       "    <tr>\n",
       "      <th>1</th>\n",
       "      <td>657259</td>\n",
       "      <td>400.00</td>\n",
       "      <td>2013-12-20 08:00:00+00:00</td>\n",
       "      <td>2014-03-26 22:25:07+00:00</td>\n",
       "    </tr>\n",
       "    <tr>\n",
       "      <th>2</th>\n",
       "      <td>658010</td>\n",
       "      <td>400.00</td>\n",
       "      <td>2014-01-09 08:00:00+00:00</td>\n",
       "      <td>2014-02-15 21:10:05+00:00</td>\n",
       "    </tr>\n",
       "    <tr>\n",
       "      <th>3</th>\n",
       "      <td>659347</td>\n",
       "      <td>625.00</td>\n",
       "      <td>2014-01-17 08:00:00+00:00</td>\n",
       "      <td>2014-02-21 03:10:02+00:00</td>\n",
       "    </tr>\n",
       "    <tr>\n",
       "      <th>4</th>\n",
       "      <td>656933</td>\n",
       "      <td>425.00</td>\n",
       "      <td>2013-12-17 08:00:00+00:00</td>\n",
       "      <td>2014-02-13 06:10:02+00:00</td>\n",
       "    </tr>\n",
       "    <tr>\n",
       "      <th>5</th>\n",
       "      <td>659605</td>\n",
       "      <td>350.00</td>\n",
       "      <td>2014-01-15 08:00:00+00:00</td>\n",
       "      <td>2014-02-20 02:30:07+00:00</td>\n",
       "    </tr>\n",
       "    <tr>\n",
       "      <th>6</th>\n",
       "      <td>660240</td>\n",
       "      <td>125.00</td>\n",
       "      <td>2014-01-20 08:00:00+00:00</td>\n",
       "      <td>2014-02-21 07:50:11+00:00</td>\n",
       "    </tr>\n",
       "    <tr>\n",
       "      <th>7</th>\n",
       "      <td>661601</td>\n",
       "      <td>1600.00</td>\n",
       "      <td>2014-01-10 08:00:00+00:00</td>\n",
       "      <td>2014-02-25 09:50:03+00:00</td>\n",
       "    </tr>\n",
       "    <tr>\n",
       "      <th>8</th>\n",
       "      <td>661960</td>\n",
       "      <td>350.00</td>\n",
       "      <td>2014-01-23 08:00:00+00:00</td>\n",
       "      <td>2014-02-26 00:10:03+00:00</td>\n",
       "    </tr>\n",
       "    <tr>\n",
       "      <th>9</th>\n",
       "      <td>662117</td>\n",
       "      <td>1825.00</td>\n",
       "      <td>2014-01-10 08:00:00+00:00</td>\n",
       "      <td>2014-03-19 13:40:02+00:00</td>\n",
       "    </tr>\n",
       "  </tbody>\n",
       "</table>\n",
       "</div>"
      ],
      "text/plain": [
       "   loan_id  loan_amount             disburse_time   planned_expiration_time\n",
       "0   657307       125.00 2013-12-22 08:00:00+00:00 2014-02-14 03:30:06+00:00\n",
       "1   657259       400.00 2013-12-20 08:00:00+00:00 2014-03-26 22:25:07+00:00\n",
       "2   658010       400.00 2014-01-09 08:00:00+00:00 2014-02-15 21:10:05+00:00\n",
       "3   659347       625.00 2014-01-17 08:00:00+00:00 2014-02-21 03:10:02+00:00\n",
       "4   656933       425.00 2013-12-17 08:00:00+00:00 2014-02-13 06:10:02+00:00\n",
       "5   659605       350.00 2014-01-15 08:00:00+00:00 2014-02-20 02:30:07+00:00\n",
       "6   660240       125.00 2014-01-20 08:00:00+00:00 2014-02-21 07:50:11+00:00\n",
       "7   661601      1600.00 2014-01-10 08:00:00+00:00 2014-02-25 09:50:03+00:00\n",
       "8   661960       350.00 2014-01-23 08:00:00+00:00 2014-02-26 00:10:03+00:00\n",
       "9   662117      1825.00 2014-01-10 08:00:00+00:00 2014-03-19 13:40:02+00:00"
      ]
     },
     "execution_count": 72,
     "metadata": {},
     "output_type": "execute_result"
    },
    {
     "name": "stdout",
     "output_type": "stream",
     "text": [
      "time: 36 ms\n"
     ]
    }
   ],
   "source": [
    "loanXyear.head(10)"
   ]
  },
  {
   "cell_type": "markdown",
   "metadata": {},
   "source": [
    "Per svolgere l'esercizio ci serviremo di un dizionario le cui chiavi sono gli anni (dal 2005 al 2018) e i valori (settati inizialmete a 0) sono le somme dei valori di ciascun loan, distribuito proporzionalmente negli anni tra disburse e planned."
   ]
  },
  {
   "cell_type": "code",
   "execution_count": 73,
   "metadata": {},
   "outputs": [
    {
     "name": "stdout",
     "output_type": "stream",
     "text": [
      "time: 110 ms\n"
     ]
    }
   ],
   "source": [
    "diz={2005:0,2006:0,2007:0,2008:0,2009:0,2010:0,2011:0,2012:0,\n",
    "    2013:0,2014:0,2015:0,2016:0,2017:0,2018:0}"
   ]
  },
  {
   "cell_type": "markdown",
   "metadata": {},
   "source": [
    "Creiamo una funzione (daysfromstart) che accetta una data come parametro, e calcola i giorni trascorsi da inizio anno; sarà utile per la suddivisione dei loan quando l'anno di disburse e planned_expiration non coincidono "
   ]
  },
  {
   "cell_type": "code",
   "execution_count": 74,
   "metadata": {},
   "outputs": [
    {
     "name": "stdout",
     "output_type": "stream",
     "text": [
      "45\n",
      "time: 249 ms\n"
     ]
    }
   ],
   "source": [
    "def daysfromstart(date, format='%Y%m%d'):\n",
    "    date = pd.to_datetime(date, format=format)\n",
    "    new_year_day = pd.Timestamp(year=date.year, month=1, day=1)\n",
    "    return (date - new_year_day).days + 1\n",
    "print(daysfromstart(loanXyear['planned_expiration_time'][0].tz_localize(None)))"
   ]
  },
  {
   "cell_type": "markdown",
   "metadata": {},
   "source": [
    "Creiamo delle variabili di sostegno alla costruzione del dizionario"
   ]
  },
  {
   "cell_type": "code",
   "execution_count": 75,
   "metadata": {},
   "outputs": [
    {
     "name": "stdout",
     "output_type": "stream",
     "text": [
      "time: 351 ms\n"
     ]
    }
   ],
   "source": [
    "loanXyear['repayment_period']=loanXyear['planned_expiration_time']-loanXyear['disburse_time']\n",
    "loanXyear['first_year']=loanXyear['disburse_time'].dt.year\n",
    "loanXyear['end_year']=loanXyear['planned_expiration_time'].dt.year"
   ]
  },
  {
   "cell_type": "markdown",
   "metadata": {},
   "source": [
    "Il ciclo aggiunge l'ammontare di ciascun loan al dizionario; il funzionamento di tale ciclo viene descritto passaggio per passaggio dai commenti"
   ]
  },
  {
   "cell_type": "code",
   "execution_count": 76,
   "metadata": {},
   "outputs": [
    {
     "name": "stdout",
     "output_type": "stream",
     "text": [
      "time: 6min 47s\n"
     ]
    }
   ],
   "source": [
    "for el in range(0,len(loanXyear)):\n",
    "    if pd.isnull(loanXyear['disburse_time'][el]): #se disburse è missing assegna tutto all'anno expiration\n",
    "        diz[loanXyear['end_year'][el]]+=round(loanXyear['loan_amount'][el],2)\n",
    "    elif pd.isnull(loanXyear['planned_expiration_time'][el]):#se expiration è missing assegna tutto all'anno disburse\n",
    "        diz[loanXyear['first_year'][el]]+=round(loanXyear['loan_amount'][el],2)\n",
    "    else: # se nessuna delle due è missing entra nell else (poichè abbiamo eliminato le 2 obs con entrambi missing)\n",
    "        timedelta=loanXyear['repayment_period'][el].days\n",
    "        first_year=loanXyear['first_year'][el]\n",
    "        end_year=loanXyear['end_year'][el]\n",
    "        i=first_year\n",
    "        if first_year==end_year: #se disburse e expired hanno lo stesso anno, si aggiunge direttamente il loan_amount al dizionario\n",
    "            diz[first_year]+=round(loanXyear['loan_amount'][el],2)\n",
    "        else: # se non coincidono entra nel ciclo else; se disburse_time è posteriore a planned_expiration_time (14935 volte), tali prestiti\n",
    "              # non vengono ripartiti.\n",
    "            while i<=end_year:# in ciascun if si calcolano i giorni e la proporzione di amount per anno\n",
    "                if i==first_year: \n",
    "                    #nell'anno di disburse si calcolano i giorni mancanti al 31/dicembre\n",
    "                    giorni=365-daysfromstart(loanXyear['disburse_time'][el].tz_localize(None), format='%Y%m%d')\n",
    "                    amount=(giorni/timedelta)*loanXyear['loan_amount'][el]\n",
    "                    diz[i]+=round(amount,2)\n",
    "                elif i==end_year: \n",
    "                    #nell'anno di expired si calcolano i giorni trascorsi dall 1/gennaio\n",
    "                    giorni=daysfromstart(loanXyear['planned_expiration_time'][el].tz_localize(None), format='%Y%m%d')\n",
    "                    amount=(giorni/timedelta)*loanXyear['loan_amount'][el]\n",
    "                    diz[i]+=round(amount,2)\n",
    "                else: \n",
    "                    #negli anni di transizione si calcolano 365 giorni\n",
    "                    giorni=365\n",
    "                    amount=(giorni/timedelta)*loanXyear['loan_amount'][el]\n",
    "                    diz[i]+=round(amount,2)\n",
    "                i+=1 \n",
    "# I prestiti con disburse_time > planned_expiration_time non vengono contati nel calcolo"
   ]
  },
  {
   "cell_type": "markdown",
   "metadata": {},
   "source": [
    "Ciò che si ottiene alla fine è quindi il seguente dizionario, in cui vengono sommati i valori dei prestiti, distribuiti tra il 2005-2018 (chiavi del dizionario)"
   ]
  },
  {
   "cell_type": "code",
   "execution_count": 77,
   "metadata": {},
   "outputs": [
    {
     "data": {
      "text/plain": [
       "{2005: 102850.0,\n",
       " 2006: 1376575.0,\n",
       " 2007: 15446525.0,\n",
       " 2008: 39423050.0,\n",
       " 2009: 59689475.0,\n",
       " 2010: 72609150.0,\n",
       " 2011: 91663978.48999995,\n",
       " 2012: 114034537.12999977,\n",
       " 2013: 125120379.71000063,\n",
       " 2014: 154211639.18999887,\n",
       " 2015: 162357303.9499999,\n",
       " 2016: 162358054.80999947,\n",
       " 2017: 175191345.52,\n",
       " 2018: 6262473.349999994}"
      ]
     },
     "execution_count": 77,
     "metadata": {},
     "output_type": "execute_result"
    },
    {
     "name": "stdout",
     "output_type": "stream",
     "text": [
      "time: 4 ms\n"
     ]
    }
   ],
   "source": [
    "diz"
   ]
  },
  {
   "cell_type": "markdown",
   "metadata": {},
   "source": [
    "Dalla serie storica dei prestiti si può notare come vi sia stata una crescita costante dal 2005 al 2017 (viene escluso il 2018 poichè non si hanno i dati di tutto l'anno)"
   ]
  },
  {
   "cell_type": "code",
   "execution_count": 78,
   "metadata": {},
   "outputs": [
    {
     "data": {
      "text/plain": [
       "Text(0.5, 1.0, \"Serie storica dell'ammontare dei prestiti dal 2005-2017 (valori assoluti)\")"
      ]
     },
     "execution_count": 78,
     "metadata": {},
     "output_type": "execute_result"
    },
    {
     "data": {
      "image/png": "[encoded data removed]",
      "text/plain": [
       "<Figure size 1152x595.44 with 1 Axes>"
      ]
     },
     "metadata": {},
     "output_type": "display_data"
    },
    {
     "name": "stdout",
     "output_type": "stream",
     "text": [
      "time: 1.1 s\n"
     ]
    }
   ],
   "source": [
    "sea.lineplot(list(diz.keys()),list(diz.values()),color='red',marker='o')\n",
    "plt.xlim(2005,2017)\n",
    "plt.xticks(list(diz.keys())[0:13])\n",
    "plt.title(\"Serie storica dell'ammontare dei prestiti dal 2005-2017 (valori assoluti)\")"
   ]
  },
  {
   "cell_type": "markdown",
   "metadata": {},
   "source": [
    "## Question 13:"
   ]
  },
  {
   "cell_type": "markdown",
   "metadata": {},
   "source": [
    "### - For each value of repayment_interval, add a new column to the lenders dataframe that contains the total amount of money corresponding to loans in such state"
   ]
  },
  {
   "cell_type": "markdown",
   "metadata": {},
   "source": [
    "Per lo svolgimento del problema necessitiamo del dataframe dfLend (con loan_id, i lenders e i valori procapite) e della colonna repaayment_interval dal dataframe loans. Applichiamo pertanto una merge con left join, così da mantenere solo i loan_id presenti in dfLend (escludendo quelli non inclusi)"
   ]
  },
  {
   "cell_type": "code",
   "execution_count": 79,
   "metadata": {},
   "outputs": [
    {
     "name": "stdout",
     "output_type": "stream",
     "text": [
      "time: 7.19 s\n"
     ]
    }
   ],
   "source": [
    "statusloan=pd.merge(dfLend,loans[['loan_id','repayment_interval']],how='left')"
   ]
  },
  {
   "cell_type": "markdown",
   "metadata": {},
   "source": [
    "Poichè bisogna aggiungere una colonna per ciascuno dei 4 status di repayment_interval (bullet, irregular, monthly, weekly) raggruppiamo il dataframe per leders e repayment_interval, sommando così i valori procapite per ciascun lender e per ciascuno status"
   ]
  },
  {
   "cell_type": "code",
   "execution_count": 80,
   "metadata": {},
   "outputs": [
    {
     "data": {
      "text/html": [
       "<div>\n",
       "<style scoped>\n",
       "    .dataframe tbody tr th:only-of-type {\n",
       "        vertical-align: middle;\n",
       "    }\n",
       "\n",
       "    .dataframe tbody tr th {\n",
       "        vertical-align: top;\n",
       "    }\n",
       "\n",
       "    .dataframe thead th {\n",
       "        text-align: right;\n",
       "    }\n",
       "</style>\n",
       "<table border=\"1\" class=\"dataframe\">\n",
       "  <thead>\n",
       "    <tr style=\"text-align: right;\">\n",
       "      <th></th>\n",
       "      <th>lenders</th>\n",
       "      <th>repayment_interval</th>\n",
       "      <th>per_capita</th>\n",
       "    </tr>\n",
       "  </thead>\n",
       "  <tbody>\n",
       "    <tr>\n",
       "      <th>0</th>\n",
       "      <td>000</td>\n",
       "      <td>bullet</td>\n",
       "      <td>143.34</td>\n",
       "    </tr>\n",
       "    <tr>\n",
       "      <th>1</th>\n",
       "      <td>000</td>\n",
       "      <td>irregular</td>\n",
       "      <td>306.65</td>\n",
       "    </tr>\n",
       "    <tr>\n",
       "      <th>2</th>\n",
       "      <td>000</td>\n",
       "      <td>monthly</td>\n",
       "      <td>1253.88</td>\n",
       "    </tr>\n",
       "    <tr>\n",
       "      <th>3</th>\n",
       "      <td>00000</td>\n",
       "      <td>bullet</td>\n",
       "      <td>106.51</td>\n",
       "    </tr>\n",
       "    <tr>\n",
       "      <th>4</th>\n",
       "      <td>00000</td>\n",
       "      <td>irregular</td>\n",
       "      <td>550.24</td>\n",
       "    </tr>\n",
       "    <tr>\n",
       "      <th>5</th>\n",
       "      <td>00000</td>\n",
       "      <td>monthly</td>\n",
       "      <td>723.00</td>\n",
       "    </tr>\n",
       "    <tr>\n",
       "      <th>6</th>\n",
       "      <td>0002</td>\n",
       "      <td>bullet</td>\n",
       "      <td>209.41</td>\n",
       "    </tr>\n",
       "    <tr>\n",
       "      <th>7</th>\n",
       "      <td>0002</td>\n",
       "      <td>irregular</td>\n",
       "      <td>1165.27</td>\n",
       "    </tr>\n",
       "    <tr>\n",
       "      <th>8</th>\n",
       "      <td>0002</td>\n",
       "      <td>monthly</td>\n",
       "      <td>1097.88</td>\n",
       "    </tr>\n",
       "    <tr>\n",
       "      <th>9</th>\n",
       "      <td>00mike00</td>\n",
       "      <td>monthly</td>\n",
       "      <td>52.63</td>\n",
       "    </tr>\n",
       "  </tbody>\n",
       "</table>\n",
       "</div>"
      ],
      "text/plain": [
       "    lenders repayment_interval  per_capita\n",
       "0       000             bullet      143.34\n",
       "1       000          irregular      306.65\n",
       "2       000            monthly     1253.88\n",
       "3     00000             bullet      106.51\n",
       "4     00000          irregular      550.24\n",
       "5     00000            monthly      723.00\n",
       "6      0002             bullet      209.41\n",
       "7      0002          irregular     1165.27\n",
       "8      0002            monthly     1097.88\n",
       "9  00mike00            monthly       52.63"
      ]
     },
     "execution_count": 80,
     "metadata": {},
     "output_type": "execute_result"
    },
    {
     "name": "stdout",
     "output_type": "stream",
     "text": [
      "time: 29.9 s\n"
     ]
    }
   ],
   "source": [
    "statusgroupby=pd.DataFrame(statusloan[['lenders','repayment_interval','per_capita']].groupby(['lenders','repayment_interval']).sum()).reset_index()\n",
    "statusgroupby.head(10)"
   ]
  },
  {
   "cell_type": "markdown",
   "metadata": {},
   "source": [
    "Applichiamo una merge iterando sui 4 diversi valori assunti da repayment_interval, e prendendo così uno alla volta i 4 subset..."
   ]
  },
  {
   "cell_type": "code",
   "execution_count": 81,
   "metadata": {},
   "outputs": [
    {
     "name": "stdout",
     "output_type": "stream",
     "text": [
      "time: 28.7 s\n"
     ]
    }
   ],
   "source": [
    "sta=list(statusgroupby['repayment_interval'].unique())\n",
    "lenders2=lenders\n",
    "lenders2=lenders2.rename(columns={'permanent_name':'lenders'})\n",
    "for el in sta:\n",
    "    subset=statusgroupby[statusgroupby['repayment_interval']==el]\n",
    "    lenders2=lenders2.merge(subset[['lenders','per_capita']],how='outer')\n",
    "    lenders2=lenders2.rename(columns={'per_capita':el})\n",
    "    lenders2[el]=lenders2[el].fillna(0)\n"
   ]
  },
  {
   "cell_type": "markdown",
   "metadata": {},
   "source": [
    "...il risultato è pertando una tabella con tutti i lenders, e per ciascuno 4 colonne con la somma del valore prestiti cui hanno partecipato, una per ciascuno status"
   ]
  },
  {
   "cell_type": "code",
   "execution_count": 82,
   "metadata": {},
   "outputs": [
    {
     "data": {
      "text/html": [
       "<div>\n",
       "<style scoped>\n",
       "    .dataframe tbody tr th:only-of-type {\n",
       "        vertical-align: middle;\n",
       "    }\n",
       "\n",
       "    .dataframe tbody tr th {\n",
       "        vertical-align: top;\n",
       "    }\n",
       "\n",
       "    .dataframe thead th {\n",
       "        text-align: right;\n",
       "    }\n",
       "</style>\n",
       "<table border=\"1\" class=\"dataframe\">\n",
       "  <thead>\n",
       "    <tr style=\"text-align: right;\">\n",
       "      <th></th>\n",
       "      <th>lenders</th>\n",
       "      <th>bullet</th>\n",
       "      <th>irregular</th>\n",
       "      <th>monthly</th>\n",
       "      <th>weekly</th>\n",
       "    </tr>\n",
       "  </thead>\n",
       "  <tbody>\n",
       "    <tr>\n",
       "      <th>0</th>\n",
       "      <td>qian3013</td>\n",
       "      <td>0.00</td>\n",
       "      <td>46.84</td>\n",
       "      <td>0.00</td>\n",
       "      <td>0.00</td>\n",
       "    </tr>\n",
       "    <tr>\n",
       "      <th>1</th>\n",
       "      <td>reena6733</td>\n",
       "      <td>0.00</td>\n",
       "      <td>32.47</td>\n",
       "      <td>385.48</td>\n",
       "      <td>0.00</td>\n",
       "    </tr>\n",
       "    <tr>\n",
       "      <th>2</th>\n",
       "      <td>mai5982</td>\n",
       "      <td>0.00</td>\n",
       "      <td>0.00</td>\n",
       "      <td>0.00</td>\n",
       "      <td>0.00</td>\n",
       "    </tr>\n",
       "    <tr>\n",
       "      <th>3</th>\n",
       "      <td>andrew86079135</td>\n",
       "      <td>0.00</td>\n",
       "      <td>0.00</td>\n",
       "      <td>158.17</td>\n",
       "      <td>0.00</td>\n",
       "    </tr>\n",
       "    <tr>\n",
       "      <th>4</th>\n",
       "      <td>nguyen6962</td>\n",
       "      <td>0.00</td>\n",
       "      <td>0.00</td>\n",
       "      <td>0.00</td>\n",
       "      <td>0.00</td>\n",
       "    </tr>\n",
       "    <tr>\n",
       "      <th>5</th>\n",
       "      <td>sirinapa6764</td>\n",
       "      <td>0.00</td>\n",
       "      <td>0.00</td>\n",
       "      <td>50.00</td>\n",
       "      <td>0.00</td>\n",
       "    </tr>\n",
       "    <tr>\n",
       "      <th>6</th>\n",
       "      <td>rene7585</td>\n",
       "      <td>0.00</td>\n",
       "      <td>0.00</td>\n",
       "      <td>59.13</td>\n",
       "      <td>0.00</td>\n",
       "    </tr>\n",
       "    <tr>\n",
       "      <th>7</th>\n",
       "      <td>harald2826</td>\n",
       "      <td>0.00</td>\n",
       "      <td>32.14</td>\n",
       "      <td>34.38</td>\n",
       "      <td>0.00</td>\n",
       "    </tr>\n",
       "    <tr>\n",
       "      <th>8</th>\n",
       "      <td>mehdi2903</td>\n",
       "      <td>0.00</td>\n",
       "      <td>0.00</td>\n",
       "      <td>0.00</td>\n",
       "      <td>0.00</td>\n",
       "    </tr>\n",
       "    <tr>\n",
       "      <th>9</th>\n",
       "      <td>youchan8125</td>\n",
       "      <td>0.00</td>\n",
       "      <td>0.00</td>\n",
       "      <td>34.38</td>\n",
       "      <td>0.00</td>\n",
       "    </tr>\n",
       "  </tbody>\n",
       "</table>\n",
       "</div>"
      ],
      "text/plain": [
       "          lenders  bullet  irregular  monthly  weekly\n",
       "0        qian3013    0.00      46.84     0.00    0.00\n",
       "1       reena6733    0.00      32.47   385.48    0.00\n",
       "2         mai5982    0.00       0.00     0.00    0.00\n",
       "3  andrew86079135    0.00       0.00   158.17    0.00\n",
       "4      nguyen6962    0.00       0.00     0.00    0.00\n",
       "5    sirinapa6764    0.00       0.00    50.00    0.00\n",
       "6        rene7585    0.00       0.00    59.13    0.00\n",
       "7      harald2826    0.00      32.14    34.38    0.00\n",
       "8       mehdi2903    0.00       0.00     0.00    0.00\n",
       "9     youchan8125    0.00       0.00    34.38    0.00"
      ]
     },
     "execution_count": 82,
     "metadata": {},
     "output_type": "execute_result"
    },
    {
     "name": "stdout",
     "output_type": "stream",
     "text": [
      "time: 189 ms\n"
     ]
    }
   ],
   "source": [
    "lenders2[['lenders','bullet','irregular','monthly','weekly']].head(10)"
   ]
  },
  {
   "cell_type": "markdown",
   "metadata": {},
   "source": [
    "Dal grafico si può evnincere che la categoria di repayment_interval con il maggior ammontare (in valore) di prestiti risulta 'monthly'"
   ]
  },
  {
   "cell_type": "code",
   "execution_count": 83,
   "metadata": {},
   "outputs": [
    {
     "data": {
      "text/plain": [
       "Text(0.5, 1.0, \"Barplot dell'ammontare totale (in denaro) di prestiti diviso per repayment_interval\")"
      ]
     },
     "execution_count": 83,
     "metadata": {},
     "output_type": "execute_result"
    },
    {
     "data": {
      "image/png": "[encoded data removed]",
      "text/plain": [
       "<Figure size 1152x595.44 with 1 Axes>"
      ]
     },
     "metadata": {},
     "output_type": "display_data"
    },
    {
     "name": "stdout",
     "output_type": "stream",
     "text": [
      "time: 2.01 s\n"
     ]
    }
   ],
   "source": [
    "sea.barplot(['bullet','irregular','monthly','weekly'],[sum(lenders2['bullet']),sum(lenders2['irregular']),\n",
    "                                                       sum(lenders2['monthly']),sum(lenders2['weekly'])])\n",
    "plt.title(\"Barplot dell'ammontare totale (in denaro) di prestiti diviso per repayment_interval\")"
   ]
  },
  {
   "cell_type": "markdown",
   "metadata": {},
   "source": [
    "Il grafico dell'ammontare medio mostra una tendenza molto simile, anche se la differenza tra irregular e monthly è molto meno marcata (e così tra bullet e weekly)"
   ]
  },
  {
   "cell_type": "code",
   "execution_count": 84,
   "metadata": {},
   "outputs": [
    {
     "data": {
      "text/plain": [
       "Text(0.5, 1.0, \"Barplot dell'ammontare medio (in denaro) di prestiti diviso per repayment_interval\")"
      ]
     },
     "execution_count": 84,
     "metadata": {},
     "output_type": "execute_result"
    },
    {
     "data": {
      "image/png": "[encoded data removed]",
      "text/plain": [
       "<Figure size 1152x595.44 with 1 Axes>"
      ]
     },
     "metadata": {},
     "output_type": "display_data"
    },
    {
     "name": "stdout",
     "output_type": "stream",
     "text": [
      "time: 3.73 s\n"
     ]
    }
   ],
   "source": [
    "lenders2[lenders2==0]=np.nan\n",
    "sea.barplot(['bullet','irregular','monthly','weekly'],[np.mean(lenders2['bullet']),np.mean(lenders2['irregular']),\n",
    "                                                       np.mean(lenders2['monthly']),np.mean(lenders2['weekly'])])\n",
    "plt.title(\"Barplot dell'ammontare medio (in denaro) di prestiti diviso per repayment_interval\")"
   ]
  },
  {
   "cell_type": "markdown",
   "metadata": {},
   "source": [
    "## Question 14"
   ]
  },
  {
   "cell_type": "markdown",
   "metadata": {},
   "source": [
    "### -  What is the occupation with the highest average amount of money lent (the average must be computed over all lenders with a given occupation)?"
   ]
  },
  {
   "cell_type": "markdown",
   "metadata": {},
   "source": [
    "Le occupazioni di ciascun lender possono essere estratte dal dataframe lenders; la variabile presenta numerose  problematiche tra le quali occupazioni inesistenti (indirizzi web, smile, parole a caso...), caratteri di alfabeti stranieri (cinesi, indiani, arabi...) e blank. Utilizzeremo un metodo basato su espressioni regolari (libreria re) per cercare di pulire i dati."
   ]
  },
  {
   "cell_type": "code",
   "execution_count": null,
   "metadata": {},
   "outputs": [],
   "source": [
    "import re"
   ]
  },
  {
   "cell_type": "markdown",
   "metadata": {},
   "source": [
    "Estraiamo le colonne utili (permanent_name e occupation) dal dataframe lenders"
   ]
  },
  {
   "cell_type": "code",
   "execution_count": 86,
   "metadata": {},
   "outputs": [
    {
     "name": "stdout",
     "output_type": "stream",
     "text": [
      "time: 586 ms\n"
     ]
    }
   ],
   "source": [
    "occ=pd.DataFrame(lenders[['permanent_name','occupation']].dropna().reset_index())"
   ]
  },
  {
   "cell_type": "code",
   "execution_count": 87,
   "metadata": {
    "scrolled": true
   },
   "outputs": [
    {
     "name": "stdout",
     "output_type": "stream",
     "text": [
      "time: 3.95 ms\n"
     ]
    }
   ],
   "source": [
    "del occ['index']"
   ]
  },
  {
   "cell_type": "code",
   "execution_count": 88,
   "metadata": {},
   "outputs": [
    {
     "name": "stdout",
     "output_type": "stream",
     "text": [
      "time: 746 ms\n"
     ]
    }
   ],
   "source": [
    "#121 numero di occupation che non hanno un nome e che vengono identificate con caratteri che non appartengono \n",
    "#ai word characters. Queste occupation verranno trattate come valori mancanti."
   ]
  },
  {
   "cell_type": "markdown",
   "metadata": {},
   "source": [
    "Utilizziamo l'espressione regolare '^\\W+$' per eliminare le occupation con solo simboli, blank, faccine..."
   ]
  },
  {
   "cell_type": "code",
   "execution_count": 89,
   "metadata": {},
   "outputs": [
    {
     "name": "stdout",
     "output_type": "stream",
     "text": [
      "time: 20 s\n"
     ]
    }
   ],
   "source": [
    "pattern='^\\W+$'\n",
    "for i in occ['occupation']:\n",
    "    if re.match(pattern, i)!=None:\n",
    "        occ=occ.drop(occ.loc[occ['occupation']==i].index)"
   ]
  },
  {
   "cell_type": "code",
   "execution_count": 90,
   "metadata": {
    "scrolled": true
   },
   "outputs": [
    {
     "name": "stdout",
     "output_type": "stream",
     "text": [
      "time: 426 ms\n"
     ]
    }
   ],
   "source": [
    "occ=occ.reset_index()\n",
    "del occ['index']"
   ]
  },
  {
   "cell_type": "code",
   "execution_count": 91,
   "metadata": {},
   "outputs": [
    {
     "name": "stdout",
     "output_type": "stream",
     "text": [
      "time: 252 ms\n"
     ]
    }
   ],
   "source": [
    "occ=occ.rename(columns={'permanent_name':'lenders'})"
   ]
  },
  {
   "cell_type": "code",
   "execution_count": 92,
   "metadata": {
    "scrolled": true
   },
   "outputs": [
    {
     "data": {
      "text/html": [
       "<div>\n",
       "<style scoped>\n",
       "    .dataframe tbody tr th:only-of-type {\n",
       "        vertical-align: middle;\n",
       "    }\n",
       "\n",
       "    .dataframe tbody tr th {\n",
       "        vertical-align: top;\n",
       "    }\n",
       "\n",
       "    .dataframe thead th {\n",
       "        text-align: right;\n",
       "    }\n",
       "</style>\n",
       "<table border=\"1\" class=\"dataframe\">\n",
       "  <thead>\n",
       "    <tr style=\"text-align: right;\">\n",
       "      <th></th>\n",
       "      <th>lenders</th>\n",
       "      <th>occupation</th>\n",
       "    </tr>\n",
       "  </thead>\n",
       "  <tbody>\n",
       "    <tr>\n",
       "      <th>0</th>\n",
       "      <td>vikas1098</td>\n",
       "      <td>Software Engineer</td>\n",
       "    </tr>\n",
       "    <tr>\n",
       "      <th>1</th>\n",
       "      <td>jack8790</td>\n",
       "      <td>Business</td>\n",
       "    </tr>\n",
       "    <tr>\n",
       "      <th>2</th>\n",
       "      <td>abpestcontrol</td>\n",
       "      <td>Owner</td>\n",
       "    </tr>\n",
       "    <tr>\n",
       "      <th>3</th>\n",
       "      <td>oliver8929</td>\n",
       "      <td>Nursing research</td>\n",
       "    </tr>\n",
       "    <tr>\n",
       "      <th>4</th>\n",
       "      <td>markeylawfirm</td>\n",
       "      <td>Owner</td>\n",
       "    </tr>\n",
       "    <tr>\n",
       "      <th>5</th>\n",
       "      <td>kumari2781</td>\n",
       "      <td>Software Engineer</td>\n",
       "    </tr>\n",
       "    <tr>\n",
       "      <th>6</th>\n",
       "      <td>sslcnow</td>\n",
       "      <td>Owner</td>\n",
       "    </tr>\n",
       "    <tr>\n",
       "      <th>7</th>\n",
       "      <td>javier7867</td>\n",
       "      <td>Technology Consultant</td>\n",
       "    </tr>\n",
       "    <tr>\n",
       "      <th>8</th>\n",
       "      <td>mitalijaykar</td>\n",
       "      <td>Dating Services</td>\n",
       "    </tr>\n",
       "    <tr>\n",
       "      <th>9</th>\n",
       "      <td>betterroofing</td>\n",
       "      <td>Owner</td>\n",
       "    </tr>\n",
       "  </tbody>\n",
       "</table>\n",
       "</div>"
      ],
      "text/plain": [
       "         lenders             occupation\n",
       "0      vikas1098      Software Engineer\n",
       "1       jack8790               Business\n",
       "2  abpestcontrol                  Owner\n",
       "3     oliver8929       Nursing research\n",
       "4  markeylawfirm                  Owner\n",
       "5     kumari2781      Software Engineer\n",
       "6        sslcnow                  Owner\n",
       "7     javier7867  Technology Consultant\n",
       "8   mitalijaykar        Dating Services\n",
       "9  betterroofing                  Owner"
      ]
     },
     "execution_count": 92,
     "metadata": {},
     "output_type": "execute_result"
    },
    {
     "name": "stdout",
     "output_type": "stream",
     "text": [
      "time: 139 ms\n"
     ]
    }
   ],
   "source": [
    "occ.head(10)"
   ]
  },
  {
   "cell_type": "markdown",
   "metadata": {},
   "source": [
    "Uniamo il dataframe appena pulito con quello contenete i contributi procapite dei lenders. Optiamo per una left_join per tenere conto anche dei lenders che non hanno mai finanziato (e che quindi non compaiono in loans_lenders)"
   ]
  },
  {
   "cell_type": "code",
   "execution_count": 93,
   "metadata": {
    "scrolled": false
   },
   "outputs": [
    {
     "name": "stdout",
     "output_type": "stream",
     "text": [
      "time: 23.3 s\n"
     ]
    }
   ],
   "source": [
    "lendOcc=occ.merge(dfLend[['lenders','per_capita']].groupby('lenders').sum(), on='lenders', how='left')"
   ]
  },
  {
   "cell_type": "markdown",
   "metadata": {},
   "source": [
    "Settiamo i valori mancanti a 0 (non hanno mai finanziato)"
   ]
  },
  {
   "cell_type": "code",
   "execution_count": 94,
   "metadata": {},
   "outputs": [
    {
     "name": "stdout",
     "output_type": "stream",
     "text": [
      "time: 153 ms\n"
     ]
    }
   ],
   "source": [
    "lendOcc=lendOcc.fillna(0)"
   ]
  },
  {
   "cell_type": "code",
   "execution_count": 95,
   "metadata": {},
   "outputs": [
    {
     "name": "stdout",
     "output_type": "stream",
     "text": [
      "time: 307 ms\n"
     ]
    }
   ],
   "source": [
    "del lendOcc['lenders']"
   ]
  },
  {
   "cell_type": "markdown",
   "metadata": {},
   "source": [
    "Utilizziamo una groupby per trovare la media per ciascuna occupazione"
   ]
  },
  {
   "cell_type": "code",
   "execution_count": 96,
   "metadata": {},
   "outputs": [
    {
     "name": "stdout",
     "output_type": "stream",
     "text": [
      "time: 481 ms\n"
     ]
    }
   ],
   "source": [
    "lendOcc=pd.DataFrame(lendOcc.groupby('occupation').mean()).reset_index().rename(columns={'per_capita':'mean'}).sort_values('mean',ascending=0)"
   ]
  },
  {
   "cell_type": "code",
   "execution_count": 97,
   "metadata": {},
   "outputs": [
    {
     "data": {
      "text/html": [
       "<div>\n",
       "<style scoped>\n",
       "    .dataframe tbody tr th:only-of-type {\n",
       "        vertical-align: middle;\n",
       "    }\n",
       "\n",
       "    .dataframe tbody tr th {\n",
       "        vertical-align: top;\n",
       "    }\n",
       "\n",
       "    .dataframe thead th {\n",
       "        text-align: right;\n",
       "    }\n",
       "</style>\n",
       "<table border=\"1\" class=\"dataframe\">\n",
       "  <thead>\n",
       "    <tr style=\"text-align: right;\">\n",
       "      <th></th>\n",
       "      <th>occupation</th>\n",
       "      <th>mean</th>\n",
       "    </tr>\n",
       "  </thead>\n",
       "  <tbody>\n",
       "    <tr>\n",
       "      <th>118444</th>\n",
       "      <td>www.linkedin.com/in/peacekeeper</td>\n",
       "      <td>8140650.85</td>\n",
       "    </tr>\n",
       "    <tr>\n",
       "      <th>65807</th>\n",
       "      <td>Retired Pharmacist, Business Owner and Investor</td>\n",
       "      <td>4453652.63</td>\n",
       "    </tr>\n",
       "    <tr>\n",
       "      <th>27536</th>\n",
       "      <td>Faith | Care | Evangelism</td>\n",
       "      <td>4445132.22</td>\n",
       "    </tr>\n",
       "    <tr>\n",
       "      <th>45644</th>\n",
       "      <td>Making the coolest belts around. No Holes. Alw...</td>\n",
       "      <td>3419770.57</td>\n",
       "    </tr>\n",
       "    <tr>\n",
       "      <th>12279</th>\n",
       "      <td>Cat herder</td>\n",
       "      <td>1561503.18</td>\n",
       "    </tr>\n",
       "    <tr>\n",
       "      <th>76518</th>\n",
       "      <td>Super Dog</td>\n",
       "      <td>1362488.16</td>\n",
       "    </tr>\n",
       "    <tr>\n",
       "      <th>66752</th>\n",
       "      <td>Retired, so now I volunteer.</td>\n",
       "      <td>1276406.22</td>\n",
       "    </tr>\n",
       "    <tr>\n",
       "      <th>83307</th>\n",
       "      <td>Vice President Client Service</td>\n",
       "      <td>1130348.98</td>\n",
       "    </tr>\n",
       "    <tr>\n",
       "      <th>10846</th>\n",
       "      <td>CEO of IncParadise.com</td>\n",
       "      <td>1033760.01</td>\n",
       "    </tr>\n",
       "    <tr>\n",
       "      <th>33312</th>\n",
       "      <td>Group of Businessmen</td>\n",
       "      <td>940979.64</td>\n",
       "    </tr>\n",
       "  </tbody>\n",
       "</table>\n",
       "</div>"
      ],
      "text/plain": [
       "                                               occupation       mean\n",
       "118444                    www.linkedin.com/in/peacekeeper 8140650.85\n",
       "65807     Retired Pharmacist, Business Owner and Investor 4453652.63\n",
       "27536                           Faith | Care | Evangelism 4445132.22\n",
       "45644   Making the coolest belts around. No Holes. Alw... 3419770.57\n",
       "12279                                          Cat herder 1561503.18\n",
       "76518                                           Super Dog 1362488.16\n",
       "66752                        Retired, so now I volunteer. 1276406.22\n",
       "83307                       Vice President Client Service 1130348.98\n",
       "10846                              CEO of IncParadise.com 1033760.01\n",
       "33312                                Group of Businessmen  940979.64"
      ]
     },
     "execution_count": 97,
     "metadata": {},
     "output_type": "execute_result"
    },
    {
     "name": "stdout",
     "output_type": "stream",
     "text": [
      "time: 8 ms\n"
     ]
    }
   ],
   "source": [
    "lendOcc.head(10)"
   ]
  },
  {
   "cell_type": "code",
   "execution_count": 98,
   "metadata": {},
   "outputs": [
    {
     "name": "stdout",
     "output_type": "stream",
     "text": [
      "- The occupation with the highest average amount of money lent is: www.linkedin.com/in/peacekeeper\n",
      "- where the averege is: 8140650.85\n",
      "time: 116 ms\n"
     ]
    }
   ],
   "source": [
    "print('- The occupation with the highest average amount of money lent is:', list(lendOcc[lendOcc['mean']==lendOcc['mean'].max()]['occupation'])[0])\n",
    "print('- where the averege is:', round(float(lendOcc[lendOcc['mean']==lendOcc['mean'].max()]['mean']),2))"
   ]
  },
  {
   "cell_type": "markdown",
   "metadata": {},
   "source": [
    "## Question 15"
   ]
  },
  {
   "cell_type": "markdown",
   "metadata": {},
   "source": [
    "### - Cluster the loans according to the year-month of disburse time."
   ]
  },
  {
   "cell_type": "markdown",
   "metadata": {},
   "source": [
    "Per prima cosa estriamo loan_id e disburse_time (variabili necessarie allo svolgimento del punto), e le inseriamo in un nuovo dataframe, in maiera da poter lavorare su una tabella meno onerosa di loans. Eliminiamo le righe con valori mancanti e resettiamo l'indice, in maniera da non avere buchi negli identificativi delle righe."
   ]
  },
  {
   "cell_type": "code",
   "execution_count": 99,
   "metadata": {},
   "outputs": [
    {
     "name": "stdout",
     "output_type": "stream",
     "text": [
      "time: 378 ms\n"
     ]
    }
   ],
   "source": [
    "lo=loans[['loan_id','disburse_time']].dropna().reset_index()\n",
    "del lo['index']\n",
    "   "
   ]
  },
  {
   "cell_type": "code",
   "execution_count": 100,
   "metadata": {},
   "outputs": [
    {
     "data": {
      "text/html": [
       "<div>\n",
       "<style scoped>\n",
       "    .dataframe tbody tr th:only-of-type {\n",
       "        vertical-align: middle;\n",
       "    }\n",
       "\n",
       "    .dataframe tbody tr th {\n",
       "        vertical-align: top;\n",
       "    }\n",
       "\n",
       "    .dataframe thead th {\n",
       "        text-align: right;\n",
       "    }\n",
       "</style>\n",
       "<table border=\"1\" class=\"dataframe\">\n",
       "  <thead>\n",
       "    <tr style=\"text-align: right;\">\n",
       "      <th></th>\n",
       "      <th>loan_id</th>\n",
       "      <th>disburse_time</th>\n",
       "    </tr>\n",
       "  </thead>\n",
       "  <tbody>\n",
       "    <tr>\n",
       "      <th>0</th>\n",
       "      <td>657307</td>\n",
       "      <td>2013-12-22 08:00:00+00:00</td>\n",
       "    </tr>\n",
       "    <tr>\n",
       "      <th>1</th>\n",
       "      <td>657259</td>\n",
       "      <td>2013-12-20 08:00:00+00:00</td>\n",
       "    </tr>\n",
       "    <tr>\n",
       "      <th>2</th>\n",
       "      <td>658010</td>\n",
       "      <td>2014-01-09 08:00:00+00:00</td>\n",
       "    </tr>\n",
       "    <tr>\n",
       "      <th>3</th>\n",
       "      <td>659347</td>\n",
       "      <td>2014-01-17 08:00:00+00:00</td>\n",
       "    </tr>\n",
       "    <tr>\n",
       "      <th>4</th>\n",
       "      <td>656933</td>\n",
       "      <td>2013-12-17 08:00:00+00:00</td>\n",
       "    </tr>\n",
       "  </tbody>\n",
       "</table>\n",
       "</div>"
      ],
      "text/plain": [
       "   loan_id             disburse_time\n",
       "0   657307 2013-12-22 08:00:00+00:00\n",
       "1   657259 2013-12-20 08:00:00+00:00\n",
       "2   658010 2014-01-09 08:00:00+00:00\n",
       "3   659347 2014-01-17 08:00:00+00:00\n",
       "4   656933 2013-12-17 08:00:00+00:00"
      ]
     },
     "execution_count": 100,
     "metadata": {},
     "output_type": "execute_result"
    },
    {
     "name": "stdout",
     "output_type": "stream",
     "text": [
      "time: 4 ms\n"
     ]
    }
   ],
   "source": [
    "lo.head()"
   ]
  },
  {
   "cell_type": "markdown",
   "metadata": {},
   "source": [
    "Poichè ci interessail clustering per mese e anno, estraiamo da disburse time tali elementi in formato stringa, non prima di riaverli ordinato le righe per disburse_time"
   ]
  },
  {
   "cell_type": "code",
   "execution_count": 101,
   "metadata": {},
   "outputs": [
    {
     "name": "stdout",
     "output_type": "stream",
     "text": [
      "time: 36.6 s\n"
     ]
    }
   ],
   "source": [
    "lo=lo.sort_values(by=['disburse_time']) \n",
    "lo['month_year']=lo['disburse_time'].dt.strftime(\"%m/%Y\")"
   ]
  },
  {
   "cell_type": "markdown",
   "metadata": {},
   "source": [
    "Per il raggruppamento in cluster ci serviamo di un dizionario, nel quale avremo come chiavi mese-anno, e come valori delle liste contenenti i loan_id dei prestiti con disburse_time avvenuto in tale mese-anno."
   ]
  },
  {
   "cell_type": "code",
   "execution_count": 102,
   "metadata": {},
   "outputs": [
    {
     "name": "stdout",
     "output_type": "stream",
     "text": [
      "time: 596 ms\n"
     ]
    }
   ],
   "source": [
    "diz2={}\n",
    "for i in lo['month_year']:  \n",
    "    if i not in diz.keys():\n",
    "        diz2[i]=[]"
   ]
  },
  {
   "cell_type": "code",
   "execution_count": 103,
   "metadata": {},
   "outputs": [
    {
     "name": "stdout",
     "output_type": "stream",
     "text": [
      "time: 1min 23s\n"
     ]
    }
   ],
   "source": [
    "k=0\n",
    "for j in diz2:\n",
    "    l=[]\n",
    "    for i in lo['month_year']:\n",
    "        if i==j:\n",
    "            l.append(lo['loan_id'][k])\n",
    "            k+=1\n",
    "    diz2[j]=l"
   ]
  },
  {
   "cell_type": "markdown",
   "metadata": {},
   "source": [
    "Possiamo ora mostrare una parte del  dizionario, comprendente la seconda e la terza lista di valori del dizionario, associate rispettivamente alle chiavi  03/2006 e 05/2006"
   ]
  },
  {
   "cell_type": "code",
   "execution_count": 104,
   "metadata": {},
   "outputs": [
    {
     "data": {
      "text/plain": [
       "{'03/2006': [1153678],\n",
       " '05/2006': [1154995,\n",
       "  1155222,\n",
       "  1155367,\n",
       "  1155776,\n",
       "  1157003,\n",
       "  1152452,\n",
       "  1157277,\n",
       "  1157285,\n",
       "  1157345,\n",
       "  1157423,\n",
       "  1157538,\n",
       "  1157809,\n",
       "  1158933,\n",
       "  1158968,\n",
       "  1159050,\n",
       "  1159313,\n",
       "  252465,\n",
       "  252846,\n",
       "  253073,\n",
       "  253423,\n",
       "  253469,\n",
       "  254260,\n",
       "  1155152,\n",
       "  252002,\n",
       "  699882,\n",
       "  732829,\n",
       "  741226,\n",
       "  1147416,\n",
       "  1190684,\n",
       "  1199332,\n",
       "  1199739,\n",
       "  1208967,\n",
       "  658016,\n",
       "  658227,\n",
       "  658740,\n",
       "  659272,\n",
       "  659876,\n",
       "  660445,\n",
       "  660642,\n",
       "  660852,\n",
       "  663261,\n",
       "  657977,\n",
       "  659535,\n",
       "  660593,\n",
       "  661368,\n",
       "  661804,\n",
       "  663030,\n",
       "  663116,\n",
       "  663274,\n",
       "  651803,\n",
       "  664794,\n",
       "  954961,\n",
       "  955506,\n",
       "  955893,\n",
       "  956016,\n",
       "  956617,\n",
       "  956754,\n",
       "  956855,\n",
       "  957748,\n",
       "  958171,\n",
       "  958212,\n",
       "  958760,\n",
       "  959169,\n",
       "  959290,\n",
       "  960114,\n",
       "  960511,\n",
       "  960843,\n",
       "  960863,\n",
       "  961060,\n",
       "  961194,\n",
       "  962868,\n",
       "  963073,\n",
       "  957086,\n",
       "  958971,\n",
       "  416476,\n",
       "  416963,\n",
       "  417272,\n",
       "  417381,\n",
       "  417734,\n",
       "  417820,\n",
       "  419798,\n",
       "  419804,\n",
       "  420491,\n",
       "  420521,\n",
       "  420639,\n",
       "  420914,\n",
       "  420966,\n",
       "  422134]}"
      ]
     },
     "execution_count": 104,
     "metadata": {},
     "output_type": "execute_result"
    },
    {
     "name": "stdout",
     "output_type": "stream",
     "text": [
      "time: 20 ms\n"
     ]
    }
   ],
   "source": [
    "dict(list(diz2.items())[1:3])"
   ]
  },
  {
   "cell_type": "markdown",
   "metadata": {},
   "source": [
    "## Question 16"
   ]
  },
  {
   "cell_type": "markdown",
   "metadata": {},
   "source": [
    "### - For each country, compute its overall GNI, by multiplying the per capita GNI with its population."
   ]
  },
  {
   "cell_type": "markdown",
   "metadata": {},
   "source": [
    "Le informazioni riguardo al GNI si possono ricavare dal dataframe country_stats."
   ]
  },
  {
   "cell_type": "code",
   "execution_count": 105,
   "metadata": {},
   "outputs": [
    {
     "data": {
      "text/plain": [
       "6"
      ]
     },
     "execution_count": 105,
     "metadata": {},
     "output_type": "execute_result"
    },
    {
     "name": "stdout",
     "output_type": "stream",
     "text": [
      "time: 317 ms\n"
     ]
    }
   ],
   "source": [
    "gdpTable=country_stats[['country_code','country_name','continent','gni','population']]\n",
    "sum(gdpTable.gni.isnull())"
   ]
  },
  {
   "cell_type": "markdown",
   "metadata": {},
   "source": [
    "Essendo presenti 6 missing in gni applichiamo nuovamente un imputazione per media condizionata da continent"
   ]
  },
  {
   "cell_type": "code",
   "execution_count": 106,
   "metadata": {},
   "outputs": [
    {
     "name": "stdout",
     "output_type": "stream",
     "text": [
      "time: 142 ms\n"
     ]
    }
   ],
   "source": [
    "meanCond2=gdpTable.groupby('continent')['gni'].mean()\n",
    "gdpTable=gdpTable.set_index('continent')\n",
    "gdpTable['gni']=gdpTable['gni'].fillna(meanCond)\n",
    "gdpTable=gdpTable.reset_index()"
   ]
  },
  {
   "cell_type": "markdown",
   "metadata": {},
   "source": [
    "Calcoliamo ora il GNI totale moltiplicando il gni per la popolazione"
   ]
  },
  {
   "cell_type": "code",
   "execution_count": 107,
   "metadata": {},
   "outputs": [
    {
     "data": {
      "text/html": [
       "<div>\n",
       "<style scoped>\n",
       "    .dataframe tbody tr th:only-of-type {\n",
       "        vertical-align: middle;\n",
       "    }\n",
       "\n",
       "    .dataframe tbody tr th {\n",
       "        vertical-align: top;\n",
       "    }\n",
       "\n",
       "    .dataframe thead th {\n",
       "        text-align: right;\n",
       "    }\n",
       "</style>\n",
       "<table border=\"1\" class=\"dataframe\">\n",
       "  <thead>\n",
       "    <tr style=\"text-align: right;\">\n",
       "      <th></th>\n",
       "      <th>continent</th>\n",
       "      <th>country_code</th>\n",
       "      <th>country_name</th>\n",
       "      <th>gni</th>\n",
       "      <th>population</th>\n",
       "      <th>gni_tot</th>\n",
       "    </tr>\n",
       "  </thead>\n",
       "  <tbody>\n",
       "    <tr>\n",
       "      <th>31</th>\n",
       "      <td>Africa</td>\n",
       "      <td>CI</td>\n",
       "      <td>Ivory Coast</td>\n",
       "      <td>3162.74</td>\n",
       "      <td>24294750</td>\n",
       "      <td>76837949748.92</td>\n",
       "    </tr>\n",
       "    <tr>\n",
       "      <th>61</th>\n",
       "      <td>Africa</td>\n",
       "      <td>MA</td>\n",
       "      <td>Morocco</td>\n",
       "      <td>7194.92</td>\n",
       "      <td>35739580</td>\n",
       "      <td>257143292451.23</td>\n",
       "    </tr>\n",
       "    <tr>\n",
       "      <th>146</th>\n",
       "      <td>Africa</td>\n",
       "      <td>MU</td>\n",
       "      <td>Mauritius</td>\n",
       "      <td>17947.96</td>\n",
       "      <td>1265138</td>\n",
       "      <td>22706651253.73</td>\n",
       "    </tr>\n",
       "    <tr>\n",
       "      <th>34</th>\n",
       "      <td>Africa</td>\n",
       "      <td>ZM</td>\n",
       "      <td>Zambia</td>\n",
       "      <td>3463.71</td>\n",
       "      <td>17094130</td>\n",
       "      <td>59209155484.15</td>\n",
       "    </tr>\n",
       "    <tr>\n",
       "      <th>123</th>\n",
       "      <td>Africa</td>\n",
       "      <td>GQ</td>\n",
       "      <td>Equatorial Guinea</td>\n",
       "      <td>21517.21</td>\n",
       "      <td>1267689</td>\n",
       "      <td>27277132544.73</td>\n",
       "    </tr>\n",
       "    <tr>\n",
       "      <th>143</th>\n",
       "      <td>Africa</td>\n",
       "      <td>DJ</td>\n",
       "      <td>Djibouti</td>\n",
       "      <td>3216.18</td>\n",
       "      <td>956985</td>\n",
       "      <td>3077832219.03</td>\n",
       "    </tr>\n",
       "    <tr>\n",
       "      <th>38</th>\n",
       "      <td>Africa</td>\n",
       "      <td>NE</td>\n",
       "      <td>Niger</td>\n",
       "      <td>889.46</td>\n",
       "      <td>21477348</td>\n",
       "      <td>19103148435.41</td>\n",
       "    </tr>\n",
       "    <tr>\n",
       "      <th>39</th>\n",
       "      <td>Africa</td>\n",
       "      <td>DZ</td>\n",
       "      <td>Algeria</td>\n",
       "      <td>13532.96</td>\n",
       "      <td>41318142</td>\n",
       "      <td>559156795188.47</td>\n",
       "    </tr>\n",
       "    <tr>\n",
       "      <th>40</th>\n",
       "      <td>Africa</td>\n",
       "      <td>MW</td>\n",
       "      <td>Malawi</td>\n",
       "      <td>1073.29</td>\n",
       "      <td>18622104</td>\n",
       "      <td>19986933756.46</td>\n",
       "    </tr>\n",
       "    <tr>\n",
       "      <th>41</th>\n",
       "      <td>Africa</td>\n",
       "      <td>ZA</td>\n",
       "      <td>South Africa</td>\n",
       "      <td>12087.21</td>\n",
       "      <td>56717156</td>\n",
       "      <td>685552381625.21</td>\n",
       "    </tr>\n",
       "  </tbody>\n",
       "</table>\n",
       "</div>"
      ],
      "text/plain": [
       "    continent country_code       country_name      gni  population  \\\n",
       "31     Africa           CI        Ivory Coast  3162.74    24294750   \n",
       "61     Africa           MA            Morocco  7194.92    35739580   \n",
       "146    Africa           MU          Mauritius 17947.96     1265138   \n",
       "34     Africa           ZM             Zambia  3463.71    17094130   \n",
       "123    Africa           GQ  Equatorial Guinea 21517.21     1267689   \n",
       "143    Africa           DJ           Djibouti  3216.18      956985   \n",
       "38     Africa           NE              Niger   889.46    21477348   \n",
       "39     Africa           DZ            Algeria 13532.96    41318142   \n",
       "40     Africa           MW             Malawi  1073.29    18622104   \n",
       "41     Africa           ZA       South Africa 12087.21    56717156   \n",
       "\n",
       "            gni_tot  \n",
       "31   76837949748.92  \n",
       "61  257143292451.23  \n",
       "146  22706651253.73  \n",
       "34   59209155484.15  \n",
       "123  27277132544.73  \n",
       "143   3077832219.03  \n",
       "38   19103148435.41  \n",
       "39  559156795188.47  \n",
       "40   19986933756.46  \n",
       "41  685552381625.21  "
      ]
     },
     "execution_count": 107,
     "metadata": {},
     "output_type": "execute_result"
    },
    {
     "name": "stdout",
     "output_type": "stream",
     "text": [
      "time: 168 ms\n"
     ]
    }
   ],
   "source": [
    "gdpTable['gni_tot']=round(gdpTable['population']*gdpTable['gni'],2)\n",
    "gdpTable=gdpTable.sort_values('continent')\n",
    "gdpTable.head(10)"
   ]
  },
  {
   "cell_type": "code",
   "execution_count": 108,
   "metadata": {},
   "outputs": [
    {
     "data": {
      "text/plain": [
       "Text(0.5, 1.0, 'Barplot con le 10 nazioni con il GNI totale più alto')"
      ]
     },
     "execution_count": 108,
     "metadata": {},
     "output_type": "execute_result"
    },
    {
     "data": {
      "image/png": "[encoded data removed]",
      "text/plain": [
       "<Figure size 900x360 with 1 Axes>"
      ]
     },
     "metadata": {},
     "output_type": "display_data"
    },
    {
     "name": "stdout",
     "output_type": "stream",
     "text": [
      "time: 992 ms\n"
     ]
    }
   ],
   "source": [
    "sea.catplot(\"country_name\",\"gni_tot\", data=gdpTable.sort_values('gni_tot',ascending=False).head(10),kind=\"bar\",aspect=2.5)\n",
    "plt.title('Barplot con le 10 nazioni con il GNI totale più alto')"
   ]
  },
  {
   "cell_type": "markdown",
   "metadata": {},
   "source": [
    "## Question 17"
   ]
  },
  {
   "cell_type": "markdown",
   "metadata": {},
   "source": [
    "### - Find the country with the highest rate of irregular repayment interval."
   ]
  },
  {
   "cell_type": "markdown",
   "metadata": {},
   "source": [
    "Per prima cosa calcoliamo quante volte compaiono le nazioni come borrowers, con una groupby su country_code"
   ]
  },
  {
   "cell_type": "code",
   "execution_count": 109,
   "metadata": {},
   "outputs": [
    {
     "name": "stdout",
     "output_type": "stream",
     "text": [
      "time: 213 ms\n"
     ]
    }
   ],
   "source": [
    "sizeCountry=loans[['country_code','repayment_interval']].groupby(['country_code']).size()"
   ]
  },
  {
   "cell_type": "markdown",
   "metadata": {},
   "source": [
    "Ora passiamo a calcolare quante volte occorre ciascuno status di repayment interval per ciascuna nazione, utilizzando una groupby su country_code"
   ]
  },
  {
   "cell_type": "code",
   "execution_count": 110,
   "metadata": {},
   "outputs": [
    {
     "name": "stdout",
     "output_type": "stream",
     "text": [
      "time: 691 ms\n"
     ]
    }
   ],
   "source": [
    "sizeRepInt=loans[['country_code','repayment_interval']].groupby(['country_code','repayment_interval']).size()"
   ]
  },
  {
   "cell_type": "markdown",
   "metadata": {},
   "source": [
    "Dividendo le occorrenze di ciascuno status di repayment_interval per le occorrenze totali della nazione, calcoliamo le percentuali di ciascuno status "
   ]
  },
  {
   "cell_type": "code",
   "execution_count": 111,
   "metadata": {},
   "outputs": [
    {
     "name": "stdout",
     "output_type": "stream",
     "text": [
      "time: 8.01 ms\n"
     ]
    }
   ],
   "source": [
    "percRepInt=(sizeRepInt/sizeCountry)*100"
   ]
  },
  {
   "cell_type": "code",
   "execution_count": 112,
   "metadata": {},
   "outputs": [
    {
     "data": {
      "text/html": [
       "<div>\n",
       "<style scoped>\n",
       "    .dataframe tbody tr th:only-of-type {\n",
       "        vertical-align: middle;\n",
       "    }\n",
       "\n",
       "    .dataframe tbody tr th {\n",
       "        vertical-align: top;\n",
       "    }\n",
       "\n",
       "    .dataframe thead th {\n",
       "        text-align: right;\n",
       "    }\n",
       "</style>\n",
       "<table border=\"1\" class=\"dataframe\">\n",
       "  <thead>\n",
       "    <tr style=\"text-align: right;\">\n",
       "      <th></th>\n",
       "      <th>country_code</th>\n",
       "      <th>repayment_interval</th>\n",
       "      <th>perc</th>\n",
       "    </tr>\n",
       "  </thead>\n",
       "  <tbody>\n",
       "    <tr>\n",
       "      <th>0</th>\n",
       "      <td>AF</td>\n",
       "      <td>bullet</td>\n",
       "      <td>0.09</td>\n",
       "    </tr>\n",
       "    <tr>\n",
       "      <th>1</th>\n",
       "      <td>AF</td>\n",
       "      <td>irregular</td>\n",
       "      <td>0.04</td>\n",
       "    </tr>\n",
       "    <tr>\n",
       "      <th>2</th>\n",
       "      <td>AF</td>\n",
       "      <td>monthly</td>\n",
       "      <td>99.87</td>\n",
       "    </tr>\n",
       "    <tr>\n",
       "      <th>3</th>\n",
       "      <td>AL</td>\n",
       "      <td>bullet</td>\n",
       "      <td>0.98</td>\n",
       "    </tr>\n",
       "    <tr>\n",
       "      <th>4</th>\n",
       "      <td>AL</td>\n",
       "      <td>irregular</td>\n",
       "      <td>1.04</td>\n",
       "    </tr>\n",
       "    <tr>\n",
       "      <th>5</th>\n",
       "      <td>AL</td>\n",
       "      <td>monthly</td>\n",
       "      <td>97.98</td>\n",
       "    </tr>\n",
       "    <tr>\n",
       "      <th>6</th>\n",
       "      <td>AM</td>\n",
       "      <td>bullet</td>\n",
       "      <td>0.77</td>\n",
       "    </tr>\n",
       "    <tr>\n",
       "      <th>7</th>\n",
       "      <td>AM</td>\n",
       "      <td>irregular</td>\n",
       "      <td>2.38</td>\n",
       "    </tr>\n",
       "    <tr>\n",
       "      <th>8</th>\n",
       "      <td>AM</td>\n",
       "      <td>monthly</td>\n",
       "      <td>96.85</td>\n",
       "    </tr>\n",
       "    <tr>\n",
       "      <th>9</th>\n",
       "      <td>AZ</td>\n",
       "      <td>bullet</td>\n",
       "      <td>0.05</td>\n",
       "    </tr>\n",
       "  </tbody>\n",
       "</table>\n",
       "</div>"
      ],
      "text/plain": [
       "  country_code repayment_interval  perc\n",
       "0           AF             bullet  0.09\n",
       "1           AF          irregular  0.04\n",
       "2           AF            monthly 99.87\n",
       "3           AL             bullet  0.98\n",
       "4           AL          irregular  1.04\n",
       "5           AL            monthly 97.98\n",
       "6           AM             bullet  0.77\n",
       "7           AM          irregular  2.38\n",
       "8           AM            monthly 96.85\n",
       "9           AZ             bullet  0.05"
      ]
     },
     "execution_count": 112,
     "metadata": {},
     "output_type": "execute_result"
    },
    {
     "name": "stdout",
     "output_type": "stream",
     "text": [
      "time: 272 ms\n"
     ]
    }
   ],
   "source": [
    "percRepInt=pd.DataFrame(percRepInt).rename(columns={0:'perc'}).reset_index() ##DataFrame diviso per country_code con le percentuali di ciascun repayment_interval\n",
    "percRepInt.head(10)"
   ]
  },
  {
   "cell_type": "markdown",
   "metadata": {},
   "source": [
    "Dalla tabella si può ora ricavare la nazione con il più altro tasso di irregular repayment_interval, che risulta essere il Bhutan con il 100%"
   ]
  },
  {
   "cell_type": "code",
   "execution_count": 113,
   "metadata": {},
   "outputs": [
    {
     "name": "stdout",
     "output_type": "stream",
     "text": [
      "Country code:  BT\n",
      "Percentage:  100.0\n",
      "time: 290 ms\n"
     ]
    }
   ],
   "source": [
    "code=percRepInt['country_code'][percRepInt['perc'][percRepInt['repayment_interval']=='irregular'].idxmax()]\n",
    "percMax=percRepInt['perc'][percRepInt['perc'][percRepInt['repayment_interval']=='irregular'].idxmax()]\n",
    "print('Country code: ',code)\n",
    "print('Percentage: ',percMax)"
   ]
  },
  {
   "cell_type": "markdown",
   "metadata": {},
   "source": [
    "Come si può vedere infatti ha due su due prestiti con status irregular"
   ]
  },
  {
   "cell_type": "code",
   "execution_count": 114,
   "metadata": {},
   "outputs": [
    {
     "data": {
      "text/html": [
       "<div>\n",
       "<style scoped>\n",
       "    .dataframe tbody tr th:only-of-type {\n",
       "        vertical-align: middle;\n",
       "    }\n",
       "\n",
       "    .dataframe tbody tr th {\n",
       "        vertical-align: top;\n",
       "    }\n",
       "\n",
       "    .dataframe thead th {\n",
       "        text-align: right;\n",
       "    }\n",
       "</style>\n",
       "<table border=\"1\" class=\"dataframe\">\n",
       "  <thead>\n",
       "    <tr style=\"text-align: right;\">\n",
       "      <th></th>\n",
       "      <th>country_code</th>\n",
       "      <th>repayment_interval</th>\n",
       "    </tr>\n",
       "  </thead>\n",
       "  <tbody>\n",
       "    <tr>\n",
       "      <th>781594</th>\n",
       "      <td>BT</td>\n",
       "      <td>irregular</td>\n",
       "    </tr>\n",
       "    <tr>\n",
       "      <th>923389</th>\n",
       "      <td>BT</td>\n",
       "      <td>irregular</td>\n",
       "    </tr>\n",
       "  </tbody>\n",
       "</table>\n",
       "</div>"
      ],
      "text/plain": [
       "       country_code repayment_interval\n",
       "781594           BT          irregular\n",
       "923389           BT          irregular"
      ]
     },
     "execution_count": 114,
     "metadata": {},
     "output_type": "execute_result"
    },
    {
     "name": "stdout",
     "output_type": "stream",
     "text": [
      "time: 508 ms\n"
     ]
    }
   ],
   "source": [
    "loans[['country_code','repayment_interval']][loans['country_code']=='BT']"
   ]
  },
  {
   "cell_type": "markdown",
   "metadata": {},
   "source": [
    "A questo punto, sapendo che il massimo rate è 100%, estraiamo gli altri paesi con percentuale massima, i quali risultano 9"
   ]
  },
  {
   "cell_type": "code",
   "execution_count": 116,
   "metadata": {},
   "outputs": [
    {
     "data": {
      "text/html": [
       "<div>\n",
       "<style scoped>\n",
       "    .dataframe tbody tr th:only-of-type {\n",
       "        vertical-align: middle;\n",
       "    }\n",
       "\n",
       "    .dataframe tbody tr th {\n",
       "        vertical-align: top;\n",
       "    }\n",
       "\n",
       "    .dataframe thead th {\n",
       "        text-align: right;\n",
       "    }\n",
       "</style>\n",
       "<table border=\"1\" class=\"dataframe\">\n",
       "  <thead>\n",
       "    <tr style=\"text-align: right;\">\n",
       "      <th></th>\n",
       "      <th>country_code</th>\n",
       "      <th>repayment_interval</th>\n",
       "      <th>perc</th>\n",
       "    </tr>\n",
       "  </thead>\n",
       "  <tbody>\n",
       "    <tr>\n",
       "      <th>31</th>\n",
       "      <td>BT</td>\n",
       "      <td>irregular</td>\n",
       "      <td>100.00</td>\n",
       "    </tr>\n",
       "    <tr>\n",
       "      <th>32</th>\n",
       "      <td>BW</td>\n",
       "      <td>irregular</td>\n",
       "      <td>100.00</td>\n",
       "    </tr>\n",
       "    <tr>\n",
       "      <th>35</th>\n",
       "      <td>CA</td>\n",
       "      <td>irregular</td>\n",
       "      <td>100.00</td>\n",
       "    </tr>\n",
       "    <tr>\n",
       "      <th>110</th>\n",
       "      <td>LK</td>\n",
       "      <td>irregular</td>\n",
       "      <td>100.00</td>\n",
       "    </tr>\n",
       "    <tr>\n",
       "      <th>127</th>\n",
       "      <td>MR</td>\n",
       "      <td>irregular</td>\n",
       "      <td>100.00</td>\n",
       "    </tr>\n",
       "    <tr>\n",
       "      <th>153</th>\n",
       "      <td>PG</td>\n",
       "      <td>irregular</td>\n",
       "      <td>100.00</td>\n",
       "    </tr>\n",
       "    <tr>\n",
       "      <th>170</th>\n",
       "      <td>SB</td>\n",
       "      <td>irregular</td>\n",
       "      <td>100.00</td>\n",
       "    </tr>\n",
       "    <tr>\n",
       "      <th>215</th>\n",
       "      <td>UY</td>\n",
       "      <td>irregular</td>\n",
       "      <td>100.00</td>\n",
       "    </tr>\n",
       "    <tr>\n",
       "      <th>222</th>\n",
       "      <td>VU</td>\n",
       "      <td>irregular</td>\n",
       "      <td>100.00</td>\n",
       "    </tr>\n",
       "  </tbody>\n",
       "</table>\n",
       "</div>"
      ],
      "text/plain": [
       "    country_code repayment_interval   perc\n",
       "31            BT          irregular 100.00\n",
       "32            BW          irregular 100.00\n",
       "35            CA          irregular 100.00\n",
       "110           LK          irregular 100.00\n",
       "127           MR          irregular 100.00\n",
       "153           PG          irregular 100.00\n",
       "170           SB          irregular 100.00\n",
       "215           UY          irregular 100.00\n",
       "222           VU          irregular 100.00"
      ]
     },
     "execution_count": 116,
     "metadata": {},
     "output_type": "execute_result"
    },
    {
     "name": "stdout",
     "output_type": "stream",
     "text": [
      "time: 12 ms\n"
     ]
    }
   ],
   "source": [
    "percRepInt[(percRepInt['perc']==100)&(percRepInt['repayment_interval']=='irregular')]"
   ]
  },
  {
   "cell_type": "markdown",
   "metadata": {},
   "source": [
    "## Question 18"
   ]
  },
  {
   "cell_type": "markdown",
   "metadata": {},
   "source": [
    "### - Find the country with the highest fraction of loaned amount with irregular repayment interval."
   ]
  },
  {
   "cell_type": "markdown",
   "metadata": {},
   "source": [
    "Applichiamo la metodologia del punto precedente, questo volta tenendo conto della somma di loan_amount invece che del numero di occorrenze"
   ]
  },
  {
   "cell_type": "code",
   "execution_count": 119,
   "metadata": {},
   "outputs": [
    {
     "name": "stdout",
     "output_type": "stream",
     "text": [
      "time: 323 ms\n"
     ]
    }
   ],
   "source": [
    "amLoan=loans.groupby(['country_code','repayment_interval'])['loan_amount'].sum()\n",
    "## ammontare dei prestiti per ogni nazione e repayment_interval"
   ]
  },
  {
   "cell_type": "code",
   "execution_count": 117,
   "metadata": {},
   "outputs": [
    {
     "name": "stdout",
     "output_type": "stream",
     "text": [
      "time: 92 ms\n"
     ]
    }
   ],
   "source": [
    "amCountry=loans.groupby(['country_code'])['loan_amount'].sum()\n",
    "## ammontare dei prestiti per ogni nazione"
   ]
  },
  {
   "cell_type": "code",
   "execution_count": 120,
   "metadata": {},
   "outputs": [
    {
     "name": "stdout",
     "output_type": "stream",
     "text": [
      "time: 8 ms\n"
     ]
    }
   ],
   "source": [
    "percAmLoan=pd.DataFrame((amLoan/amCountry)*100).reset_index().rename(columns={'loan_amount':'perc'})\n",
    "## percentuale di loan_amount per repayment_interval sul totale della nazione"
   ]
  },
  {
   "cell_type": "markdown",
   "metadata": {},
   "source": [
    "Avendo verificato prima che vi sono 9 nazioni con il 100% di prestiti con status irregular, saranno esse quelle con la frazione maggiore di loan_amount in prestiti con status irregular (poichè avranno il 100% di ammontare richiesto in prestito con tale status)"
   ]
  },
  {
   "cell_type": "code",
   "execution_count": 123,
   "metadata": {},
   "outputs": [
    {
     "data": {
      "text/html": [
       "<div>\n",
       "<style scoped>\n",
       "    .dataframe tbody tr th:only-of-type {\n",
       "        vertical-align: middle;\n",
       "    }\n",
       "\n",
       "    .dataframe tbody tr th {\n",
       "        vertical-align: top;\n",
       "    }\n",
       "\n",
       "    .dataframe thead th {\n",
       "        text-align: right;\n",
       "    }\n",
       "</style>\n",
       "<table border=\"1\" class=\"dataframe\">\n",
       "  <thead>\n",
       "    <tr style=\"text-align: right;\">\n",
       "      <th></th>\n",
       "      <th>country_code</th>\n",
       "      <th>repayment_interval</th>\n",
       "      <th>perc</th>\n",
       "    </tr>\n",
       "  </thead>\n",
       "  <tbody>\n",
       "    <tr>\n",
       "      <th>31</th>\n",
       "      <td>BT</td>\n",
       "      <td>irregular</td>\n",
       "      <td>100.00</td>\n",
       "    </tr>\n",
       "    <tr>\n",
       "      <th>32</th>\n",
       "      <td>BW</td>\n",
       "      <td>irregular</td>\n",
       "      <td>100.00</td>\n",
       "    </tr>\n",
       "    <tr>\n",
       "      <th>35</th>\n",
       "      <td>CA</td>\n",
       "      <td>irregular</td>\n",
       "      <td>100.00</td>\n",
       "    </tr>\n",
       "    <tr>\n",
       "      <th>110</th>\n",
       "      <td>LK</td>\n",
       "      <td>irregular</td>\n",
       "      <td>100.00</td>\n",
       "    </tr>\n",
       "    <tr>\n",
       "      <th>127</th>\n",
       "      <td>MR</td>\n",
       "      <td>irregular</td>\n",
       "      <td>100.00</td>\n",
       "    </tr>\n",
       "    <tr>\n",
       "      <th>153</th>\n",
       "      <td>PG</td>\n",
       "      <td>irregular</td>\n",
       "      <td>100.00</td>\n",
       "    </tr>\n",
       "    <tr>\n",
       "      <th>170</th>\n",
       "      <td>SB</td>\n",
       "      <td>irregular</td>\n",
       "      <td>100.00</td>\n",
       "    </tr>\n",
       "    <tr>\n",
       "      <th>215</th>\n",
       "      <td>UY</td>\n",
       "      <td>irregular</td>\n",
       "      <td>100.00</td>\n",
       "    </tr>\n",
       "    <tr>\n",
       "      <th>222</th>\n",
       "      <td>VU</td>\n",
       "      <td>irregular</td>\n",
       "      <td>100.00</td>\n",
       "    </tr>\n",
       "  </tbody>\n",
       "</table>\n",
       "</div>"
      ],
      "text/plain": [
       "    country_code repayment_interval   perc\n",
       "31            BT          irregular 100.00\n",
       "32            BW          irregular 100.00\n",
       "35            CA          irregular 100.00\n",
       "110           LK          irregular 100.00\n",
       "127           MR          irregular 100.00\n",
       "153           PG          irregular 100.00\n",
       "170           SB          irregular 100.00\n",
       "215           UY          irregular 100.00\n",
       "222           VU          irregular 100.00"
      ]
     },
     "execution_count": 123,
     "metadata": {},
     "output_type": "execute_result"
    },
    {
     "name": "stdout",
     "output_type": "stream",
     "text": [
      "time: 8 ms\n"
     ]
    }
   ],
   "source": [
    "percAmLoan[(percAmLoan['perc']==100)&((percAmLoan['repayment_interval']=='irregular'))]"
   ]
  },
  {
   "cell_type": "markdown",
   "metadata": {},
   "source": [
    "## Tempo di esecuzione del progetto"
   ]
  },
  {
   "cell_type": "code",
   "execution_count": 122,
   "metadata": {},
   "outputs": [
    {
     "name": "stdout",
     "output_type": "stream",
     "text": [
      "Tempo di esecuzione totale:  0:20:05.082899\n",
      "time: 4 ms\n"
     ]
    }
   ],
   "source": [
    "end=datetime.datetime.now()\n",
    "print('Tempo di esecuzione totale: ',end-start)"
   ]
  }
 ],
 "metadata": {
  "kernelspec": {
   "display_name": "Python 3",
   "language": "python",
   "name": "python3"
  },
  "language_info": {
   "codemirror_mode": {
    "name": "ipython",
    "version": 3
   },
   "file_extension": ".py",
   "mimetype": "text/x-python",
   "name": "python",
   "nbconvert_exporter": "python",
   "pygments_lexer": "ipython3",
   "version": "3.7.3"
  }
 },
 "nbformat": 4,
 "nbformat_minor": 2
}
